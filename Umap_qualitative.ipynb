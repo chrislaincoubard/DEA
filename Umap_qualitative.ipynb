{
 "cells": [
  {
   "cell_type": "code",
   "execution_count": 35,
   "id": "2e710f5a",
   "metadata": {},
   "outputs": [
    {
     "name": "stdout",
     "output_type": "stream",
     "text": [
      "['Normal' 'Normal' 'Normal' 'Normal' 'Normal' 'Normal' 'Normal' 'Normal'\n",
      " 'Basal' 'Basal' 'Basal' 'Basal' 'Basal' 'Basal' 'Basal' 'Basal' 'Basal'\n",
      " 'Basal' 'Basal' 'Basal' 'Basal' 'Basal' 'Basal' 'Basal' 'Basal' 'Basal'\n",
      " 'Basal' 'Basal' 'Basal' 'Basal' 'Her2' 'Her2' 'Her2' 'Her2' 'Her2' 'Her2'\n",
      " 'Her2' 'Her2' 'Her2' 'Her2' 'Her2' 'Her2' 'Her2' 'Her2' 'Her2' 'Her2'\n",
      " 'Her2' 'Her2' 'Her2' 'Her2' 'Her2' 'Her2' 'Her2' 'Her2' 'Her2' 'LumA'\n",
      " 'LumA' 'LumA' 'LumA' 'LumA' 'LumA' 'LumA' 'LumA' 'LumA' 'LumB' 'LumB'\n",
      " 'LumB' 'LumB' 'LumB' 'LumB' 'LumB' 'LumB']\n",
      "(72, 50)\n"
     ]
    },
    {
     "data": {
      "text/html": [
       "<div>\n",
       "<style scoped>\n",
       "    .dataframe tbody tr th:only-of-type {\n",
       "        vertical-align: middle;\n",
       "    }\n",
       "\n",
       "    .dataframe tbody tr th {\n",
       "        vertical-align: top;\n",
       "    }\n",
       "\n",
       "    .dataframe thead th {\n",
       "        text-align: right;\n",
       "    }\n",
       "</style>\n",
       "<table border=\"1\" class=\"dataframe\">\n",
       "  <thead>\n",
       "    <tr style=\"text-align: right;\">\n",
       "      <th></th>\n",
       "      <th>ACTR3B</th>\n",
       "      <th>ANLN</th>\n",
       "      <th>BAG1</th>\n",
       "      <th>BCL2</th>\n",
       "      <th>BIRC5</th>\n",
       "      <th>BLVRA</th>\n",
       "      <th>CCNB1</th>\n",
       "      <th>CCNE1</th>\n",
       "      <th>CDC20</th>\n",
       "      <th>CDC6</th>\n",
       "      <th>...</th>\n",
       "      <th>PGR</th>\n",
       "      <th>PHGDH</th>\n",
       "      <th>PTTG1</th>\n",
       "      <th>RRM2</th>\n",
       "      <th>SFRP1</th>\n",
       "      <th>SLC39A6</th>\n",
       "      <th>TMEM45B</th>\n",
       "      <th>TYMS</th>\n",
       "      <th>UBE2C</th>\n",
       "      <th>UBE2T</th>\n",
       "    </tr>\n",
       "  </thead>\n",
       "  <tbody>\n",
       "    <tr>\n",
       "      <th>0</th>\n",
       "      <td>-1.151</td>\n",
       "      <td>-3.736</td>\n",
       "      <td>0.260</td>\n",
       "      <td>1.300</td>\n",
       "      <td>-2.860</td>\n",
       "      <td>-0.569</td>\n",
       "      <td>-2.981</td>\n",
       "      <td>-1.962</td>\n",
       "      <td>-1.280</td>\n",
       "      <td>-2.649</td>\n",
       "      <td>...</td>\n",
       "      <td>0.794</td>\n",
       "      <td>-1.027</td>\n",
       "      <td>-2.650</td>\n",
       "      <td>-3.928</td>\n",
       "      <td>3.106</td>\n",
       "      <td>-1.138</td>\n",
       "      <td>-2.093</td>\n",
       "      <td>-4.36</td>\n",
       "      <td>-1.448</td>\n",
       "      <td>-3.382</td>\n",
       "    </tr>\n",
       "    <tr>\n",
       "      <th>1</th>\n",
       "      <td>-0.485</td>\n",
       "      <td>-3.739</td>\n",
       "      <td>0.591</td>\n",
       "      <td>1.580</td>\n",
       "      <td>-3.250</td>\n",
       "      <td>-0.533</td>\n",
       "      <td>-2.935</td>\n",
       "      <td>-1.086</td>\n",
       "      <td>-1.712</td>\n",
       "      <td>-2.758</td>\n",
       "      <td>...</td>\n",
       "      <td>1.386</td>\n",
       "      <td>-0.988</td>\n",
       "      <td>-2.386</td>\n",
       "      <td>-4.659</td>\n",
       "      <td>3.669</td>\n",
       "      <td>0.048</td>\n",
       "      <td>-0.933</td>\n",
       "      <td>-4.05</td>\n",
       "      <td>-2.615</td>\n",
       "      <td>-2.746</td>\n",
       "    </tr>\n",
       "    <tr>\n",
       "      <th>2</th>\n",
       "      <td>0.298</td>\n",
       "      <td>-2.848</td>\n",
       "      <td>0.359</td>\n",
       "      <td>1.292</td>\n",
       "      <td>-2.493</td>\n",
       "      <td>-0.687</td>\n",
       "      <td>-2.810</td>\n",
       "      <td>-1.194</td>\n",
       "      <td>-1.084</td>\n",
       "      <td>-2.534</td>\n",
       "      <td>...</td>\n",
       "      <td>0.428</td>\n",
       "      <td>-0.729</td>\n",
       "      <td>-1.658</td>\n",
       "      <td>-3.770</td>\n",
       "      <td>3.268</td>\n",
       "      <td>-0.796</td>\n",
       "      <td>-1.909</td>\n",
       "      <td>-2.86</td>\n",
       "      <td>-0.708</td>\n",
       "      <td>-2.744</td>\n",
       "    </tr>\n",
       "    <tr>\n",
       "      <th>3</th>\n",
       "      <td>1.153</td>\n",
       "      <td>-4.717</td>\n",
       "      <td>0.098</td>\n",
       "      <td>1.954</td>\n",
       "      <td>-3.237</td>\n",
       "      <td>-0.535</td>\n",
       "      <td>-3.558</td>\n",
       "      <td>-2.185</td>\n",
       "      <td>-1.774</td>\n",
       "      <td>-3.892</td>\n",
       "      <td>...</td>\n",
       "      <td>0.638</td>\n",
       "      <td>-0.543</td>\n",
       "      <td>-2.828</td>\n",
       "      <td>-4.536</td>\n",
       "      <td>3.350</td>\n",
       "      <td>-2.167</td>\n",
       "      <td>-3.274</td>\n",
       "      <td>-4.12</td>\n",
       "      <td>-2.065</td>\n",
       "      <td>-3.742</td>\n",
       "    </tr>\n",
       "    <tr>\n",
       "      <th>4</th>\n",
       "      <td>-0.287</td>\n",
       "      <td>-3.681</td>\n",
       "      <td>0.441</td>\n",
       "      <td>1.911</td>\n",
       "      <td>-2.156</td>\n",
       "      <td>-0.965</td>\n",
       "      <td>-2.869</td>\n",
       "      <td>-1.129</td>\n",
       "      <td>-1.430</td>\n",
       "      <td>-3.362</td>\n",
       "      <td>...</td>\n",
       "      <td>1.413</td>\n",
       "      <td>-1.070</td>\n",
       "      <td>-2.248</td>\n",
       "      <td>-3.798</td>\n",
       "      <td>3.175</td>\n",
       "      <td>-1.054</td>\n",
       "      <td>-0.597</td>\n",
       "      <td>-3.80</td>\n",
       "      <td>-1.847</td>\n",
       "      <td>-2.575</td>\n",
       "    </tr>\n",
       "    <tr>\n",
       "      <th>...</th>\n",
       "      <td>...</td>\n",
       "      <td>...</td>\n",
       "      <td>...</td>\n",
       "      <td>...</td>\n",
       "      <td>...</td>\n",
       "      <td>...</td>\n",
       "      <td>...</td>\n",
       "      <td>...</td>\n",
       "      <td>...</td>\n",
       "      <td>...</td>\n",
       "      <td>...</td>\n",
       "      <td>...</td>\n",
       "      <td>...</td>\n",
       "      <td>...</td>\n",
       "      <td>...</td>\n",
       "      <td>...</td>\n",
       "      <td>...</td>\n",
       "      <td>...</td>\n",
       "      <td>...</td>\n",
       "      <td>...</td>\n",
       "      <td>...</td>\n",
       "    </tr>\n",
       "    <tr>\n",
       "      <th>67</th>\n",
       "      <td>-0.267</td>\n",
       "      <td>-0.803</td>\n",
       "      <td>-0.409</td>\n",
       "      <td>0.329</td>\n",
       "      <td>0.179</td>\n",
       "      <td>1.542</td>\n",
       "      <td>-0.854</td>\n",
       "      <td>-1.170</td>\n",
       "      <td>-0.238</td>\n",
       "      <td>-1.776</td>\n",
       "      <td>...</td>\n",
       "      <td>0.025</td>\n",
       "      <td>-3.197</td>\n",
       "      <td>-0.672</td>\n",
       "      <td>-2.491</td>\n",
       "      <td>-3.184</td>\n",
       "      <td>0.123</td>\n",
       "      <td>-1.894</td>\n",
       "      <td>-1.05</td>\n",
       "      <td>0.012</td>\n",
       "      <td>-0.051</td>\n",
       "    </tr>\n",
       "    <tr>\n",
       "      <th>68</th>\n",
       "      <td>-0.938</td>\n",
       "      <td>-1.999</td>\n",
       "      <td>-0.910</td>\n",
       "      <td>0.472</td>\n",
       "      <td>-1.564</td>\n",
       "      <td>0.352</td>\n",
       "      <td>-1.842</td>\n",
       "      <td>-1.520</td>\n",
       "      <td>-0.566</td>\n",
       "      <td>0.739</td>\n",
       "      <td>...</td>\n",
       "      <td>0.075</td>\n",
       "      <td>-2.252</td>\n",
       "      <td>-1.343</td>\n",
       "      <td>-1.403</td>\n",
       "      <td>-3.064</td>\n",
       "      <td>1.579</td>\n",
       "      <td>0.920</td>\n",
       "      <td>-1.47</td>\n",
       "      <td>-0.196</td>\n",
       "      <td>-0.550</td>\n",
       "    </tr>\n",
       "    <tr>\n",
       "      <th>69</th>\n",
       "      <td>-0.950</td>\n",
       "      <td>-1.757</td>\n",
       "      <td>0.250</td>\n",
       "      <td>0.099</td>\n",
       "      <td>-1.289</td>\n",
       "      <td>1.219</td>\n",
       "      <td>-1.135</td>\n",
       "      <td>-1.270</td>\n",
       "      <td>-1.178</td>\n",
       "      <td>-1.987</td>\n",
       "      <td>...</td>\n",
       "      <td>1.004</td>\n",
       "      <td>-3.621</td>\n",
       "      <td>-0.772</td>\n",
       "      <td>-1.862</td>\n",
       "      <td>-1.936</td>\n",
       "      <td>-1.458</td>\n",
       "      <td>-0.892</td>\n",
       "      <td>-2.19</td>\n",
       "      <td>-0.294</td>\n",
       "      <td>-1.046</td>\n",
       "    </tr>\n",
       "    <tr>\n",
       "      <th>70</th>\n",
       "      <td>0.039</td>\n",
       "      <td>-1.937</td>\n",
       "      <td>0.095</td>\n",
       "      <td>0.137</td>\n",
       "      <td>-0.948</td>\n",
       "      <td>2.833</td>\n",
       "      <td>-1.669</td>\n",
       "      <td>-0.911</td>\n",
       "      <td>-1.601</td>\n",
       "      <td>-2.077</td>\n",
       "      <td>...</td>\n",
       "      <td>0.269</td>\n",
       "      <td>-3.909</td>\n",
       "      <td>-1.734</td>\n",
       "      <td>-1.778</td>\n",
       "      <td>-1.255</td>\n",
       "      <td>2.368</td>\n",
       "      <td>0.204</td>\n",
       "      <td>-1.86</td>\n",
       "      <td>-1.492</td>\n",
       "      <td>-1.227</td>\n",
       "    </tr>\n",
       "    <tr>\n",
       "      <th>71</th>\n",
       "      <td>-1.441</td>\n",
       "      <td>-2.706</td>\n",
       "      <td>-1.142</td>\n",
       "      <td>0.393</td>\n",
       "      <td>-1.330</td>\n",
       "      <td>0.333</td>\n",
       "      <td>-1.415</td>\n",
       "      <td>-1.396</td>\n",
       "      <td>-1.266</td>\n",
       "      <td>-2.113</td>\n",
       "      <td>...</td>\n",
       "      <td>1.403</td>\n",
       "      <td>-2.186</td>\n",
       "      <td>-2.213</td>\n",
       "      <td>-1.079</td>\n",
       "      <td>0.120</td>\n",
       "      <td>2.967</td>\n",
       "      <td>-1.036</td>\n",
       "      <td>-2.28</td>\n",
       "      <td>-0.186</td>\n",
       "      <td>-0.445</td>\n",
       "    </tr>\n",
       "  </tbody>\n",
       "</table>\n",
       "<p>72 rows × 50 columns</p>\n",
       "</div>"
      ],
      "text/plain": [
       "    ACTR3B   ANLN   BAG1   BCL2  BIRC5  BLVRA  CCNB1  CCNE1  CDC20   CDC6  \\\n",
       "0   -1.151 -3.736  0.260  1.300 -2.860 -0.569 -2.981 -1.962 -1.280 -2.649   \n",
       "1   -0.485 -3.739  0.591  1.580 -3.250 -0.533 -2.935 -1.086 -1.712 -2.758   \n",
       "2    0.298 -2.848  0.359  1.292 -2.493 -0.687 -2.810 -1.194 -1.084 -2.534   \n",
       "3    1.153 -4.717  0.098  1.954 -3.237 -0.535 -3.558 -2.185 -1.774 -3.892   \n",
       "4   -0.287 -3.681  0.441  1.911 -2.156 -0.965 -2.869 -1.129 -1.430 -3.362   \n",
       "..     ...    ...    ...    ...    ...    ...    ...    ...    ...    ...   \n",
       "67  -0.267 -0.803 -0.409  0.329  0.179  1.542 -0.854 -1.170 -0.238 -1.776   \n",
       "68  -0.938 -1.999 -0.910  0.472 -1.564  0.352 -1.842 -1.520 -0.566  0.739   \n",
       "69  -0.950 -1.757  0.250  0.099 -1.289  1.219 -1.135 -1.270 -1.178 -1.987   \n",
       "70   0.039 -1.937  0.095  0.137 -0.948  2.833 -1.669 -0.911 -1.601 -2.077   \n",
       "71  -1.441 -2.706 -1.142  0.393 -1.330  0.333 -1.415 -1.396 -1.266 -2.113   \n",
       "\n",
       "    ...    PGR  PHGDH  PTTG1   RRM2  SFRP1  SLC39A6  TMEM45B  TYMS  UBE2C  \\\n",
       "0   ...  0.794 -1.027 -2.650 -3.928  3.106   -1.138   -2.093 -4.36 -1.448   \n",
       "1   ...  1.386 -0.988 -2.386 -4.659  3.669    0.048   -0.933 -4.05 -2.615   \n",
       "2   ...  0.428 -0.729 -1.658 -3.770  3.268   -0.796   -1.909 -2.86 -0.708   \n",
       "3   ...  0.638 -0.543 -2.828 -4.536  3.350   -2.167   -3.274 -4.12 -2.065   \n",
       "4   ...  1.413 -1.070 -2.248 -3.798  3.175   -1.054   -0.597 -3.80 -1.847   \n",
       "..  ...    ...    ...    ...    ...    ...      ...      ...   ...    ...   \n",
       "67  ...  0.025 -3.197 -0.672 -2.491 -3.184    0.123   -1.894 -1.05  0.012   \n",
       "68  ...  0.075 -2.252 -1.343 -1.403 -3.064    1.579    0.920 -1.47 -0.196   \n",
       "69  ...  1.004 -3.621 -0.772 -1.862 -1.936   -1.458   -0.892 -2.19 -0.294   \n",
       "70  ...  0.269 -3.909 -1.734 -1.778 -1.255    2.368    0.204 -1.86 -1.492   \n",
       "71  ...  1.403 -2.186 -2.213 -1.079  0.120    2.967   -1.036 -2.28 -0.186   \n",
       "\n",
       "    UBE2T  \n",
       "0  -3.382  \n",
       "1  -2.746  \n",
       "2  -2.744  \n",
       "3  -3.742  \n",
       "4  -2.575  \n",
       "..    ...  \n",
       "67 -0.051  \n",
       "68 -0.550  \n",
       "69 -1.046  \n",
       "70 -1.227  \n",
       "71 -0.445  \n",
       "\n",
       "[72 rows x 50 columns]"
      ]
     },
     "execution_count": 35,
     "metadata": {},
     "output_type": "execute_result"
    }
   ],
   "source": [
    "import pandas as pd\n",
    "\n",
    "df = pd.read_csv(\"Data_Pam50.csv\")\n",
    "Y = df[\"subtype\"].values  #les differentes classes d'échantilon\n",
    "df = df.drop([\"Unnamed: 0\", \"subtype\"], axis = 1) #suppr les labels pour avoir que les data\n",
    "Xprime = df.iloc[:,0:2]\n",
    "\n",
    "print(Y)\n",
    "print(df.shape)\n",
    "df"
   ]
  },
  {
   "cell_type": "code",
   "execution_count": 42,
   "id": "763756e7",
   "metadata": {},
   "outputs": [],
   "source": [
    "from sklearn.decomposition import PCA\n",
    "from sklearn.preprocessing import StandardScaler\n",
    "import plotly.express as px\n",
    "import numpy as np\n",
    "\n",
    "x = df.iloc[:,:].values\n",
    "x = StandardScaler().fit_transform(x)"
   ]
  },
  {
   "cell_type": "code",
   "execution_count": 44,
   "id": "5f7c8fd5",
   "metadata": {},
   "outputs": [
    {
     "data": {
      "text/plain": [
       "(1.4802973661668754e-17, 1.0)"
      ]
     },
     "execution_count": 44,
     "metadata": {},
     "output_type": "execute_result"
    }
   ],
   "source": [
    "np.mean(x),np.std(x)"
   ]
  },
  {
   "cell_type": "code",
   "execution_count": 39,
   "id": "60a48dba",
   "metadata": {},
   "outputs": [
    {
     "data": {
      "text/plain": [
       "(-0.5952969444444445, 1.7496827218389552)"
      ]
     },
     "execution_count": 39,
     "metadata": {},
     "output_type": "execute_result"
    }
   ],
   "source": [
    "np.mean(x),np.std(x)"
   ]
  },
  {
   "cell_type": "code",
   "execution_count": 45,
   "id": "7662acd3",
   "metadata": {},
   "outputs": [
    {
     "name": "stdout",
     "output_type": "stream",
     "text": [
      "Explained variation per principal component: [0.32365694 0.19291794]\n"
     ]
    }
   ],
   "source": [
    "pca_df = PCA(n_components=2)\n",
    "principalComponents_df = pca_df.fit_transform(x)\n",
    "principal_Df = pd.DataFrame(data = principalComponents_df\n",
    "             , columns = ['principal component 1', 'principal component 2'])\n",
    "print('Explained variation per principal component: {}'.format(pca_df.explained_variance_ratio_))"
   ]
  },
  {
   "cell_type": "code",
   "execution_count": 55,
   "id": "38934887",
   "metadata": {},
   "outputs": [
    {
     "data": {
      "application/vnd.plotly.v1+json": {
       "config": {
        "plotlyServerURL": "https://plot.ly"
       },
       "data": [
        {
         "hovertemplate": "Sous type=Normal<br>principal component 1=%{x}<br>principal component 2=%{y}<extra></extra>",
         "legendgroup": "Normal",
         "marker": {
          "color": "#636efa",
          "symbol": "circle"
         },
         "mode": "markers",
         "name": "Normal",
         "orientation": "v",
         "showlegend": true,
         "type": "scatter",
         "x": [
          5.8302616314346425,
          6.066309976960782,
          2.884640171877599,
          7.274630918233494,
          5.030112748450119,
          7.79539889529017,
          4.954485178761308,
          5.813838340646901
         ],
         "xaxis": "x",
         "y": [
          5.043091263239134,
          4.371374991199126,
          4.932292497229198,
          6.850261885875033,
          4.435623002068596,
          5.426785954094452,
          4.616163387835145,
          4.74861916613157
         ],
         "yaxis": "y"
        },
        {
         "hovertemplate": "Sous type=Basal<br>principal component 1=%{x}<br>principal component 2=%{y}<extra></extra>",
         "legendgroup": "Basal",
         "marker": {
          "color": "#EF553B",
          "symbol": "circle"
         },
         "mode": "markers",
         "name": "Basal",
         "orientation": "v",
         "showlegend": true,
         "type": "scatter",
         "x": [
          -5.054837688041093,
          -5.913758478485953,
          -5.773738619958317,
          -1.7196617513919619,
          -1.419717384945147,
          -6.492780509257696,
          -4.228308493716644,
          -3.3592469619962153,
          -4.04183183689791,
          -3.197560780838546,
          0.2457405158000227,
          -6.537235695909321,
          -4.260022670894597,
          -1.1568082325150684,
          -6.482914844528819,
          -3.410623989500495,
          -1.3388525111588168,
          -7.0805133163537946,
          -4.7411177230929225,
          -6.067346545369685,
          -3.162711593159493,
          -2.49090929382355
         ],
         "xaxis": "x",
         "y": [
          4.9643103870280845,
          2.1933865183931887,
          1.6641319195145474,
          3.431730334262805,
          4.485823415960894,
          2.2315285541548517,
          1.295521340634651,
          3.4074165040308286,
          1.1648730665867697,
          3.0869990987781963,
          2.3083372905764676,
          2.0639922865436344,
          1.8063073201238249,
          4.64214636626133,
          1.7822060710649448,
          2.8693347422079674,
          3.812266381880277,
          2.3806749676731687,
          0.8760312451269784,
          0.06024621810986912,
          4.3792716545405455,
          2.5144596663898096
         ],
         "yaxis": "y"
        },
        {
         "hovertemplate": "Sous type=Her2<br>principal component 1=%{x}<br>principal component 2=%{y}<extra></extra>",
         "legendgroup": "Her2",
         "marker": {
          "color": "#00cc96",
          "symbol": "circle"
         },
         "mode": "markers",
         "name": "Her2",
         "orientation": "v",
         "showlegend": true,
         "type": "scatter",
         "x": [
          -4.5689911998785,
          -2.390596065486188,
          0.8001827806980241,
          -1.3557282795738523,
          1.2785321575331834,
          -2.571111020786426,
          -2.8800712372900232,
          4.631559384341615,
          1.094252410127959,
          0.25027114844248033,
          1.3460703749857919,
          1.0633921193743825,
          -0.496065117241165,
          0.5859677923275564,
          1.2118314720862269,
          0.7114202488217231,
          1.92133893869104,
          1.9858959817196478,
          -2.7699144001444753,
          -2.6418413085139196,
          -2.8767085964783283,
          2.0248390443929796,
          -0.6310013514571576,
          -0.8724922803390404,
          1.2901720050174272
         ],
         "xaxis": "x",
         "y": [
          -0.209196026970215,
          -1.083139255870881,
          -1.663517911503591,
          -1.512089852750073,
          -1.0327605443513246,
          -1.185510530464431,
          -1.85163517826203,
          -1.502013933103446,
          -3.0702777495740725,
          -4.358513577270668,
          -4.171546683749662,
          -2.296182703691241,
          -3.9342209376338864,
          -2.7935689471946143,
          -3.7185882985708365,
          -1.650746269841673,
          -1.8984330834398913,
          -2.9518996923534986,
          -3.4960849253195105,
          -1.5938349755844838,
          -2.6212358268383067,
          -3.1032686789265447,
          -3.0241436238689205,
          -3.6052357125913645,
          -3.5057653795075985
         ],
         "yaxis": "y"
        },
        {
         "hovertemplate": "Sous type=LumA<br>principal component 1=%{x}<br>principal component 2=%{y}<extra></extra>",
         "legendgroup": "LumA",
         "marker": {
          "color": "#ab63fa",
          "symbol": "circle"
         },
         "mode": "markers",
         "name": "LumA",
         "orientation": "v",
         "showlegend": true,
         "type": "scatter",
         "x": [
          4.2869853351827585,
          4.871073243334317,
          5.140067605773519,
          6.7804742911856435,
          2.820526704945387,
          5.987457397000117,
          7.345928222259514,
          4.998633016466945,
          7.616153892129449
         ],
         "xaxis": "x",
         "y": [
          -0.573689460443974,
          -1.7086440782660677,
          -1.3083698300966315,
          -1.7024407289991443,
          -0.9608259130939864,
          -0.40322081289292216,
          -1.1152026404024364,
          -0.550392530761931,
          0.6013258845955074
         ],
         "yaxis": "y"
        },
        {
         "hovertemplate": "Sous type=LumB<br>principal component 1=%{x}<br>principal component 2=%{y}<extra></extra>",
         "legendgroup": "LumB",
         "marker": {
          "color": "#FFA15A",
          "symbol": "circle"
         },
         "mode": "markers",
         "name": "LumB",
         "orientation": "v",
         "showlegend": true,
         "type": "scatter",
         "x": [
          -4.294125561081046,
          1.4501489825479552,
          1.0182138632395106,
          -3.6503425264468574,
          -1.6045425040690793,
          0.2554110295121599,
          1.8786416491052305,
          0.9931709019245287
         ],
         "xaxis": "x",
         "y": [
          -2.308251445809096,
          -2.907196387148685,
          -4.167613830874372,
          -3.9020142166865486,
          -4.601457788505964,
          -4.374465379788004,
          -3.7482121733271176,
          -2.2811258657817532
         ],
         "yaxis": "y"
        }
       ],
       "layout": {
        "legend": {
         "title": {
          "text": "Sous type"
         },
         "tracegroupgap": 0
        },
        "margin": {
         "t": 60
        },
        "template": {
         "data": {
          "bar": [
           {
            "error_x": {
             "color": "#2a3f5f"
            },
            "error_y": {
             "color": "#2a3f5f"
            },
            "marker": {
             "line": {
              "color": "#E5ECF6",
              "width": 0.5
             },
             "pattern": {
              "fillmode": "overlay",
              "size": 10,
              "solidity": 0.2
             }
            },
            "type": "bar"
           }
          ],
          "barpolar": [
           {
            "marker": {
             "line": {
              "color": "#E5ECF6",
              "width": 0.5
             },
             "pattern": {
              "fillmode": "overlay",
              "size": 10,
              "solidity": 0.2
             }
            },
            "type": "barpolar"
           }
          ],
          "carpet": [
           {
            "aaxis": {
             "endlinecolor": "#2a3f5f",
             "gridcolor": "white",
             "linecolor": "white",
             "minorgridcolor": "white",
             "startlinecolor": "#2a3f5f"
            },
            "baxis": {
             "endlinecolor": "#2a3f5f",
             "gridcolor": "white",
             "linecolor": "white",
             "minorgridcolor": "white",
             "startlinecolor": "#2a3f5f"
            },
            "type": "carpet"
           }
          ],
          "choropleth": [
           {
            "colorbar": {
             "outlinewidth": 0,
             "ticks": ""
            },
            "type": "choropleth"
           }
          ],
          "contour": [
           {
            "colorbar": {
             "outlinewidth": 0,
             "ticks": ""
            },
            "colorscale": [
             [
              0,
              "#0d0887"
             ],
             [
              0.1111111111111111,
              "#46039f"
             ],
             [
              0.2222222222222222,
              "#7201a8"
             ],
             [
              0.3333333333333333,
              "#9c179e"
             ],
             [
              0.4444444444444444,
              "#bd3786"
             ],
             [
              0.5555555555555556,
              "#d8576b"
             ],
             [
              0.6666666666666666,
              "#ed7953"
             ],
             [
              0.7777777777777778,
              "#fb9f3a"
             ],
             [
              0.8888888888888888,
              "#fdca26"
             ],
             [
              1,
              "#f0f921"
             ]
            ],
            "type": "contour"
           }
          ],
          "contourcarpet": [
           {
            "colorbar": {
             "outlinewidth": 0,
             "ticks": ""
            },
            "type": "contourcarpet"
           }
          ],
          "heatmap": [
           {
            "colorbar": {
             "outlinewidth": 0,
             "ticks": ""
            },
            "colorscale": [
             [
              0,
              "#0d0887"
             ],
             [
              0.1111111111111111,
              "#46039f"
             ],
             [
              0.2222222222222222,
              "#7201a8"
             ],
             [
              0.3333333333333333,
              "#9c179e"
             ],
             [
              0.4444444444444444,
              "#bd3786"
             ],
             [
              0.5555555555555556,
              "#d8576b"
             ],
             [
              0.6666666666666666,
              "#ed7953"
             ],
             [
              0.7777777777777778,
              "#fb9f3a"
             ],
             [
              0.8888888888888888,
              "#fdca26"
             ],
             [
              1,
              "#f0f921"
             ]
            ],
            "type": "heatmap"
           }
          ],
          "heatmapgl": [
           {
            "colorbar": {
             "outlinewidth": 0,
             "ticks": ""
            },
            "colorscale": [
             [
              0,
              "#0d0887"
             ],
             [
              0.1111111111111111,
              "#46039f"
             ],
             [
              0.2222222222222222,
              "#7201a8"
             ],
             [
              0.3333333333333333,
              "#9c179e"
             ],
             [
              0.4444444444444444,
              "#bd3786"
             ],
             [
              0.5555555555555556,
              "#d8576b"
             ],
             [
              0.6666666666666666,
              "#ed7953"
             ],
             [
              0.7777777777777778,
              "#fb9f3a"
             ],
             [
              0.8888888888888888,
              "#fdca26"
             ],
             [
              1,
              "#f0f921"
             ]
            ],
            "type": "heatmapgl"
           }
          ],
          "histogram": [
           {
            "marker": {
             "pattern": {
              "fillmode": "overlay",
              "size": 10,
              "solidity": 0.2
             }
            },
            "type": "histogram"
           }
          ],
          "histogram2d": [
           {
            "colorbar": {
             "outlinewidth": 0,
             "ticks": ""
            },
            "colorscale": [
             [
              0,
              "#0d0887"
             ],
             [
              0.1111111111111111,
              "#46039f"
             ],
             [
              0.2222222222222222,
              "#7201a8"
             ],
             [
              0.3333333333333333,
              "#9c179e"
             ],
             [
              0.4444444444444444,
              "#bd3786"
             ],
             [
              0.5555555555555556,
              "#d8576b"
             ],
             [
              0.6666666666666666,
              "#ed7953"
             ],
             [
              0.7777777777777778,
              "#fb9f3a"
             ],
             [
              0.8888888888888888,
              "#fdca26"
             ],
             [
              1,
              "#f0f921"
             ]
            ],
            "type": "histogram2d"
           }
          ],
          "histogram2dcontour": [
           {
            "colorbar": {
             "outlinewidth": 0,
             "ticks": ""
            },
            "colorscale": [
             [
              0,
              "#0d0887"
             ],
             [
              0.1111111111111111,
              "#46039f"
             ],
             [
              0.2222222222222222,
              "#7201a8"
             ],
             [
              0.3333333333333333,
              "#9c179e"
             ],
             [
              0.4444444444444444,
              "#bd3786"
             ],
             [
              0.5555555555555556,
              "#d8576b"
             ],
             [
              0.6666666666666666,
              "#ed7953"
             ],
             [
              0.7777777777777778,
              "#fb9f3a"
             ],
             [
              0.8888888888888888,
              "#fdca26"
             ],
             [
              1,
              "#f0f921"
             ]
            ],
            "type": "histogram2dcontour"
           }
          ],
          "mesh3d": [
           {
            "colorbar": {
             "outlinewidth": 0,
             "ticks": ""
            },
            "type": "mesh3d"
           }
          ],
          "parcoords": [
           {
            "line": {
             "colorbar": {
              "outlinewidth": 0,
              "ticks": ""
             }
            },
            "type": "parcoords"
           }
          ],
          "pie": [
           {
            "automargin": true,
            "type": "pie"
           }
          ],
          "scatter": [
           {
            "fillpattern": {
             "fillmode": "overlay",
             "size": 10,
             "solidity": 0.2
            },
            "type": "scatter"
           }
          ],
          "scatter3d": [
           {
            "line": {
             "colorbar": {
              "outlinewidth": 0,
              "ticks": ""
             }
            },
            "marker": {
             "colorbar": {
              "outlinewidth": 0,
              "ticks": ""
             }
            },
            "type": "scatter3d"
           }
          ],
          "scattercarpet": [
           {
            "marker": {
             "colorbar": {
              "outlinewidth": 0,
              "ticks": ""
             }
            },
            "type": "scattercarpet"
           }
          ],
          "scattergeo": [
           {
            "marker": {
             "colorbar": {
              "outlinewidth": 0,
              "ticks": ""
             }
            },
            "type": "scattergeo"
           }
          ],
          "scattergl": [
           {
            "marker": {
             "colorbar": {
              "outlinewidth": 0,
              "ticks": ""
             }
            },
            "type": "scattergl"
           }
          ],
          "scattermapbox": [
           {
            "marker": {
             "colorbar": {
              "outlinewidth": 0,
              "ticks": ""
             }
            },
            "type": "scattermapbox"
           }
          ],
          "scatterpolar": [
           {
            "marker": {
             "colorbar": {
              "outlinewidth": 0,
              "ticks": ""
             }
            },
            "type": "scatterpolar"
           }
          ],
          "scatterpolargl": [
           {
            "marker": {
             "colorbar": {
              "outlinewidth": 0,
              "ticks": ""
             }
            },
            "type": "scatterpolargl"
           }
          ],
          "scatterternary": [
           {
            "marker": {
             "colorbar": {
              "outlinewidth": 0,
              "ticks": ""
             }
            },
            "type": "scatterternary"
           }
          ],
          "surface": [
           {
            "colorbar": {
             "outlinewidth": 0,
             "ticks": ""
            },
            "colorscale": [
             [
              0,
              "#0d0887"
             ],
             [
              0.1111111111111111,
              "#46039f"
             ],
             [
              0.2222222222222222,
              "#7201a8"
             ],
             [
              0.3333333333333333,
              "#9c179e"
             ],
             [
              0.4444444444444444,
              "#bd3786"
             ],
             [
              0.5555555555555556,
              "#d8576b"
             ],
             [
              0.6666666666666666,
              "#ed7953"
             ],
             [
              0.7777777777777778,
              "#fb9f3a"
             ],
             [
              0.8888888888888888,
              "#fdca26"
             ],
             [
              1,
              "#f0f921"
             ]
            ],
            "type": "surface"
           }
          ],
          "table": [
           {
            "cells": {
             "fill": {
              "color": "#EBF0F8"
             },
             "line": {
              "color": "white"
             }
            },
            "header": {
             "fill": {
              "color": "#C8D4E3"
             },
             "line": {
              "color": "white"
             }
            },
            "type": "table"
           }
          ]
         },
         "layout": {
          "annotationdefaults": {
           "arrowcolor": "#2a3f5f",
           "arrowhead": 0,
           "arrowwidth": 1
          },
          "autotypenumbers": "strict",
          "coloraxis": {
           "colorbar": {
            "outlinewidth": 0,
            "ticks": ""
           }
          },
          "colorscale": {
           "diverging": [
            [
             0,
             "#8e0152"
            ],
            [
             0.1,
             "#c51b7d"
            ],
            [
             0.2,
             "#de77ae"
            ],
            [
             0.3,
             "#f1b6da"
            ],
            [
             0.4,
             "#fde0ef"
            ],
            [
             0.5,
             "#f7f7f7"
            ],
            [
             0.6,
             "#e6f5d0"
            ],
            [
             0.7,
             "#b8e186"
            ],
            [
             0.8,
             "#7fbc41"
            ],
            [
             0.9,
             "#4d9221"
            ],
            [
             1,
             "#276419"
            ]
           ],
           "sequential": [
            [
             0,
             "#0d0887"
            ],
            [
             0.1111111111111111,
             "#46039f"
            ],
            [
             0.2222222222222222,
             "#7201a8"
            ],
            [
             0.3333333333333333,
             "#9c179e"
            ],
            [
             0.4444444444444444,
             "#bd3786"
            ],
            [
             0.5555555555555556,
             "#d8576b"
            ],
            [
             0.6666666666666666,
             "#ed7953"
            ],
            [
             0.7777777777777778,
             "#fb9f3a"
            ],
            [
             0.8888888888888888,
             "#fdca26"
            ],
            [
             1,
             "#f0f921"
            ]
           ],
           "sequentialminus": [
            [
             0,
             "#0d0887"
            ],
            [
             0.1111111111111111,
             "#46039f"
            ],
            [
             0.2222222222222222,
             "#7201a8"
            ],
            [
             0.3333333333333333,
             "#9c179e"
            ],
            [
             0.4444444444444444,
             "#bd3786"
            ],
            [
             0.5555555555555556,
             "#d8576b"
            ],
            [
             0.6666666666666666,
             "#ed7953"
            ],
            [
             0.7777777777777778,
             "#fb9f3a"
            ],
            [
             0.8888888888888888,
             "#fdca26"
            ],
            [
             1,
             "#f0f921"
            ]
           ]
          },
          "colorway": [
           "#636efa",
           "#EF553B",
           "#00cc96",
           "#ab63fa",
           "#FFA15A",
           "#19d3f3",
           "#FF6692",
           "#B6E880",
           "#FF97FF",
           "#FECB52"
          ],
          "font": {
           "color": "#2a3f5f"
          },
          "geo": {
           "bgcolor": "white",
           "lakecolor": "white",
           "landcolor": "#E5ECF6",
           "showlakes": true,
           "showland": true,
           "subunitcolor": "white"
          },
          "hoverlabel": {
           "align": "left"
          },
          "hovermode": "closest",
          "mapbox": {
           "style": "light"
          },
          "paper_bgcolor": "white",
          "plot_bgcolor": "#E5ECF6",
          "polar": {
           "angularaxis": {
            "gridcolor": "white",
            "linecolor": "white",
            "ticks": ""
           },
           "bgcolor": "#E5ECF6",
           "radialaxis": {
            "gridcolor": "white",
            "linecolor": "white",
            "ticks": ""
           }
          },
          "scene": {
           "xaxis": {
            "backgroundcolor": "#E5ECF6",
            "gridcolor": "white",
            "gridwidth": 2,
            "linecolor": "white",
            "showbackground": true,
            "ticks": "",
            "zerolinecolor": "white"
           },
           "yaxis": {
            "backgroundcolor": "#E5ECF6",
            "gridcolor": "white",
            "gridwidth": 2,
            "linecolor": "white",
            "showbackground": true,
            "ticks": "",
            "zerolinecolor": "white"
           },
           "zaxis": {
            "backgroundcolor": "#E5ECF6",
            "gridcolor": "white",
            "gridwidth": 2,
            "linecolor": "white",
            "showbackground": true,
            "ticks": "",
            "zerolinecolor": "white"
           }
          },
          "shapedefaults": {
           "line": {
            "color": "#2a3f5f"
           }
          },
          "ternary": {
           "aaxis": {
            "gridcolor": "white",
            "linecolor": "white",
            "ticks": ""
           },
           "baxis": {
            "gridcolor": "white",
            "linecolor": "white",
            "ticks": ""
           },
           "bgcolor": "#E5ECF6",
           "caxis": {
            "gridcolor": "white",
            "linecolor": "white",
            "ticks": ""
           }
          },
          "title": {
           "x": 0.05
          },
          "xaxis": {
           "automargin": true,
           "gridcolor": "white",
           "linecolor": "white",
           "ticks": "",
           "title": {
            "standoff": 15
           },
           "zerolinecolor": "white",
           "zerolinewidth": 2
          },
          "yaxis": {
           "automargin": true,
           "gridcolor": "white",
           "linecolor": "white",
           "ticks": "",
           "title": {
            "standoff": 15
           },
           "zerolinecolor": "white",
           "zerolinewidth": 2
          }
         }
        },
        "xaxis": {
         "anchor": "y",
         "domain": [
          0,
          1
         ],
         "title": {
          "text": "principal component 1"
         }
        },
        "yaxis": {
         "anchor": "x",
         "domain": [
          0,
          1
         ],
         "title": {
          "text": "principal component 2"
         }
        }
       }
      },
      "text/html": [
       "<div>                            <div id=\"22469bd6-93f3-4f23-abff-73916bfa09ad\" class=\"plotly-graph-div\" style=\"height:525px; width:100%;\"></div>            <script type=\"text/javascript\">                require([\"plotly\"], function(Plotly) {                    window.PLOTLYENV=window.PLOTLYENV || {};                                    if (document.getElementById(\"22469bd6-93f3-4f23-abff-73916bfa09ad\")) {                    Plotly.newPlot(                        \"22469bd6-93f3-4f23-abff-73916bfa09ad\",                        [{\"hovertemplate\":\"Sous type=Normal<br>principal component 1=%{x}<br>principal component 2=%{y}<extra></extra>\",\"legendgroup\":\"Normal\",\"marker\":{\"color\":\"#636efa\",\"symbol\":\"circle\"},\"mode\":\"markers\",\"name\":\"Normal\",\"orientation\":\"v\",\"showlegend\":true,\"x\":[5.8302616314346425,6.066309976960782,2.884640171877599,7.274630918233494,5.030112748450119,7.79539889529017,4.954485178761308,5.813838340646901],\"xaxis\":\"x\",\"y\":[5.043091263239134,4.371374991199126,4.932292497229198,6.850261885875033,4.435623002068596,5.426785954094452,4.616163387835145,4.74861916613157],\"yaxis\":\"y\",\"type\":\"scatter\"},{\"hovertemplate\":\"Sous type=Basal<br>principal component 1=%{x}<br>principal component 2=%{y}<extra></extra>\",\"legendgroup\":\"Basal\",\"marker\":{\"color\":\"#EF553B\",\"symbol\":\"circle\"},\"mode\":\"markers\",\"name\":\"Basal\",\"orientation\":\"v\",\"showlegend\":true,\"x\":[-5.054837688041093,-5.913758478485953,-5.773738619958317,-1.7196617513919619,-1.419717384945147,-6.492780509257696,-4.228308493716644,-3.3592469619962153,-4.04183183689791,-3.197560780838546,0.2457405158000227,-6.537235695909321,-4.260022670894597,-1.1568082325150684,-6.482914844528819,-3.410623989500495,-1.3388525111588168,-7.0805133163537946,-4.7411177230929225,-6.067346545369685,-3.162711593159493,-2.49090929382355],\"xaxis\":\"x\",\"y\":[4.9643103870280845,2.1933865183931887,1.6641319195145474,3.431730334262805,4.485823415960894,2.2315285541548517,1.295521340634651,3.4074165040308286,1.1648730665867697,3.0869990987781963,2.3083372905764676,2.0639922865436344,1.8063073201238249,4.64214636626133,1.7822060710649448,2.8693347422079674,3.812266381880277,2.3806749676731687,0.8760312451269784,0.06024621810986912,4.3792716545405455,2.5144596663898096],\"yaxis\":\"y\",\"type\":\"scatter\"},{\"hovertemplate\":\"Sous type=Her2<br>principal component 1=%{x}<br>principal component 2=%{y}<extra></extra>\",\"legendgroup\":\"Her2\",\"marker\":{\"color\":\"#00cc96\",\"symbol\":\"circle\"},\"mode\":\"markers\",\"name\":\"Her2\",\"orientation\":\"v\",\"showlegend\":true,\"x\":[-4.5689911998785,-2.390596065486188,0.8001827806980241,-1.3557282795738523,1.2785321575331834,-2.571111020786426,-2.8800712372900232,4.631559384341615,1.094252410127959,0.25027114844248033,1.3460703749857919,1.0633921193743825,-0.496065117241165,0.5859677923275564,1.2118314720862269,0.7114202488217231,1.92133893869104,1.9858959817196478,-2.7699144001444753,-2.6418413085139196,-2.8767085964783283,2.0248390443929796,-0.6310013514571576,-0.8724922803390404,1.2901720050174272],\"xaxis\":\"x\",\"y\":[-0.209196026970215,-1.083139255870881,-1.663517911503591,-1.512089852750073,-1.0327605443513246,-1.185510530464431,-1.85163517826203,-1.502013933103446,-3.0702777495740725,-4.358513577270668,-4.171546683749662,-2.296182703691241,-3.9342209376338864,-2.7935689471946143,-3.7185882985708365,-1.650746269841673,-1.8984330834398913,-2.9518996923534986,-3.4960849253195105,-1.5938349755844838,-2.6212358268383067,-3.1032686789265447,-3.0241436238689205,-3.6052357125913645,-3.5057653795075985],\"yaxis\":\"y\",\"type\":\"scatter\"},{\"hovertemplate\":\"Sous type=LumA<br>principal component 1=%{x}<br>principal component 2=%{y}<extra></extra>\",\"legendgroup\":\"LumA\",\"marker\":{\"color\":\"#ab63fa\",\"symbol\":\"circle\"},\"mode\":\"markers\",\"name\":\"LumA\",\"orientation\":\"v\",\"showlegend\":true,\"x\":[4.2869853351827585,4.871073243334317,5.140067605773519,6.7804742911856435,2.820526704945387,5.987457397000117,7.345928222259514,4.998633016466945,7.616153892129449],\"xaxis\":\"x\",\"y\":[-0.573689460443974,-1.7086440782660677,-1.3083698300966315,-1.7024407289991443,-0.9608259130939864,-0.40322081289292216,-1.1152026404024364,-0.550392530761931,0.6013258845955074],\"yaxis\":\"y\",\"type\":\"scatter\"},{\"hovertemplate\":\"Sous type=LumB<br>principal component 1=%{x}<br>principal component 2=%{y}<extra></extra>\",\"legendgroup\":\"LumB\",\"marker\":{\"color\":\"#FFA15A\",\"symbol\":\"circle\"},\"mode\":\"markers\",\"name\":\"LumB\",\"orientation\":\"v\",\"showlegend\":true,\"x\":[-4.294125561081046,1.4501489825479552,1.0182138632395106,-3.6503425264468574,-1.6045425040690793,0.2554110295121599,1.8786416491052305,0.9931709019245287],\"xaxis\":\"x\",\"y\":[-2.308251445809096,-2.907196387148685,-4.167613830874372,-3.9020142166865486,-4.601457788505964,-4.374465379788004,-3.7482121733271176,-2.2811258657817532],\"yaxis\":\"y\",\"type\":\"scatter\"}],                        {\"template\":{\"data\":{\"histogram2dcontour\":[{\"type\":\"histogram2dcontour\",\"colorbar\":{\"outlinewidth\":0,\"ticks\":\"\"},\"colorscale\":[[0.0,\"#0d0887\"],[0.1111111111111111,\"#46039f\"],[0.2222222222222222,\"#7201a8\"],[0.3333333333333333,\"#9c179e\"],[0.4444444444444444,\"#bd3786\"],[0.5555555555555556,\"#d8576b\"],[0.6666666666666666,\"#ed7953\"],[0.7777777777777778,\"#fb9f3a\"],[0.8888888888888888,\"#fdca26\"],[1.0,\"#f0f921\"]]}],\"choropleth\":[{\"type\":\"choropleth\",\"colorbar\":{\"outlinewidth\":0,\"ticks\":\"\"}}],\"histogram2d\":[{\"type\":\"histogram2d\",\"colorbar\":{\"outlinewidth\":0,\"ticks\":\"\"},\"colorscale\":[[0.0,\"#0d0887\"],[0.1111111111111111,\"#46039f\"],[0.2222222222222222,\"#7201a8\"],[0.3333333333333333,\"#9c179e\"],[0.4444444444444444,\"#bd3786\"],[0.5555555555555556,\"#d8576b\"],[0.6666666666666666,\"#ed7953\"],[0.7777777777777778,\"#fb9f3a\"],[0.8888888888888888,\"#fdca26\"],[1.0,\"#f0f921\"]]}],\"heatmap\":[{\"type\":\"heatmap\",\"colorbar\":{\"outlinewidth\":0,\"ticks\":\"\"},\"colorscale\":[[0.0,\"#0d0887\"],[0.1111111111111111,\"#46039f\"],[0.2222222222222222,\"#7201a8\"],[0.3333333333333333,\"#9c179e\"],[0.4444444444444444,\"#bd3786\"],[0.5555555555555556,\"#d8576b\"],[0.6666666666666666,\"#ed7953\"],[0.7777777777777778,\"#fb9f3a\"],[0.8888888888888888,\"#fdca26\"],[1.0,\"#f0f921\"]]}],\"heatmapgl\":[{\"type\":\"heatmapgl\",\"colorbar\":{\"outlinewidth\":0,\"ticks\":\"\"},\"colorscale\":[[0.0,\"#0d0887\"],[0.1111111111111111,\"#46039f\"],[0.2222222222222222,\"#7201a8\"],[0.3333333333333333,\"#9c179e\"],[0.4444444444444444,\"#bd3786\"],[0.5555555555555556,\"#d8576b\"],[0.6666666666666666,\"#ed7953\"],[0.7777777777777778,\"#fb9f3a\"],[0.8888888888888888,\"#fdca26\"],[1.0,\"#f0f921\"]]}],\"contourcarpet\":[{\"type\":\"contourcarpet\",\"colorbar\":{\"outlinewidth\":0,\"ticks\":\"\"}}],\"contour\":[{\"type\":\"contour\",\"colorbar\":{\"outlinewidth\":0,\"ticks\":\"\"},\"colorscale\":[[0.0,\"#0d0887\"],[0.1111111111111111,\"#46039f\"],[0.2222222222222222,\"#7201a8\"],[0.3333333333333333,\"#9c179e\"],[0.4444444444444444,\"#bd3786\"],[0.5555555555555556,\"#d8576b\"],[0.6666666666666666,\"#ed7953\"],[0.7777777777777778,\"#fb9f3a\"],[0.8888888888888888,\"#fdca26\"],[1.0,\"#f0f921\"]]}],\"surface\":[{\"type\":\"surface\",\"colorbar\":{\"outlinewidth\":0,\"ticks\":\"\"},\"colorscale\":[[0.0,\"#0d0887\"],[0.1111111111111111,\"#46039f\"],[0.2222222222222222,\"#7201a8\"],[0.3333333333333333,\"#9c179e\"],[0.4444444444444444,\"#bd3786\"],[0.5555555555555556,\"#d8576b\"],[0.6666666666666666,\"#ed7953\"],[0.7777777777777778,\"#fb9f3a\"],[0.8888888888888888,\"#fdca26\"],[1.0,\"#f0f921\"]]}],\"mesh3d\":[{\"type\":\"mesh3d\",\"colorbar\":{\"outlinewidth\":0,\"ticks\":\"\"}}],\"scatter\":[{\"fillpattern\":{\"fillmode\":\"overlay\",\"size\":10,\"solidity\":0.2},\"type\":\"scatter\"}],\"parcoords\":[{\"type\":\"parcoords\",\"line\":{\"colorbar\":{\"outlinewidth\":0,\"ticks\":\"\"}}}],\"scatterpolargl\":[{\"type\":\"scatterpolargl\",\"marker\":{\"colorbar\":{\"outlinewidth\":0,\"ticks\":\"\"}}}],\"bar\":[{\"error_x\":{\"color\":\"#2a3f5f\"},\"error_y\":{\"color\":\"#2a3f5f\"},\"marker\":{\"line\":{\"color\":\"#E5ECF6\",\"width\":0.5},\"pattern\":{\"fillmode\":\"overlay\",\"size\":10,\"solidity\":0.2}},\"type\":\"bar\"}],\"scattergeo\":[{\"type\":\"scattergeo\",\"marker\":{\"colorbar\":{\"outlinewidth\":0,\"ticks\":\"\"}}}],\"scatterpolar\":[{\"type\":\"scatterpolar\",\"marker\":{\"colorbar\":{\"outlinewidth\":0,\"ticks\":\"\"}}}],\"histogram\":[{\"marker\":{\"pattern\":{\"fillmode\":\"overlay\",\"size\":10,\"solidity\":0.2}},\"type\":\"histogram\"}],\"scattergl\":[{\"type\":\"scattergl\",\"marker\":{\"colorbar\":{\"outlinewidth\":0,\"ticks\":\"\"}}}],\"scatter3d\":[{\"type\":\"scatter3d\",\"line\":{\"colorbar\":{\"outlinewidth\":0,\"ticks\":\"\"}},\"marker\":{\"colorbar\":{\"outlinewidth\":0,\"ticks\":\"\"}}}],\"scattermapbox\":[{\"type\":\"scattermapbox\",\"marker\":{\"colorbar\":{\"outlinewidth\":0,\"ticks\":\"\"}}}],\"scatterternary\":[{\"type\":\"scatterternary\",\"marker\":{\"colorbar\":{\"outlinewidth\":0,\"ticks\":\"\"}}}],\"scattercarpet\":[{\"type\":\"scattercarpet\",\"marker\":{\"colorbar\":{\"outlinewidth\":0,\"ticks\":\"\"}}}],\"carpet\":[{\"aaxis\":{\"endlinecolor\":\"#2a3f5f\",\"gridcolor\":\"white\",\"linecolor\":\"white\",\"minorgridcolor\":\"white\",\"startlinecolor\":\"#2a3f5f\"},\"baxis\":{\"endlinecolor\":\"#2a3f5f\",\"gridcolor\":\"white\",\"linecolor\":\"white\",\"minorgridcolor\":\"white\",\"startlinecolor\":\"#2a3f5f\"},\"type\":\"carpet\"}],\"table\":[{\"cells\":{\"fill\":{\"color\":\"#EBF0F8\"},\"line\":{\"color\":\"white\"}},\"header\":{\"fill\":{\"color\":\"#C8D4E3\"},\"line\":{\"color\":\"white\"}},\"type\":\"table\"}],\"barpolar\":[{\"marker\":{\"line\":{\"color\":\"#E5ECF6\",\"width\":0.5},\"pattern\":{\"fillmode\":\"overlay\",\"size\":10,\"solidity\":0.2}},\"type\":\"barpolar\"}],\"pie\":[{\"automargin\":true,\"type\":\"pie\"}]},\"layout\":{\"autotypenumbers\":\"strict\",\"colorway\":[\"#636efa\",\"#EF553B\",\"#00cc96\",\"#ab63fa\",\"#FFA15A\",\"#19d3f3\",\"#FF6692\",\"#B6E880\",\"#FF97FF\",\"#FECB52\"],\"font\":{\"color\":\"#2a3f5f\"},\"hovermode\":\"closest\",\"hoverlabel\":{\"align\":\"left\"},\"paper_bgcolor\":\"white\",\"plot_bgcolor\":\"#E5ECF6\",\"polar\":{\"bgcolor\":\"#E5ECF6\",\"angularaxis\":{\"gridcolor\":\"white\",\"linecolor\":\"white\",\"ticks\":\"\"},\"radialaxis\":{\"gridcolor\":\"white\",\"linecolor\":\"white\",\"ticks\":\"\"}},\"ternary\":{\"bgcolor\":\"#E5ECF6\",\"aaxis\":{\"gridcolor\":\"white\",\"linecolor\":\"white\",\"ticks\":\"\"},\"baxis\":{\"gridcolor\":\"white\",\"linecolor\":\"white\",\"ticks\":\"\"},\"caxis\":{\"gridcolor\":\"white\",\"linecolor\":\"white\",\"ticks\":\"\"}},\"coloraxis\":{\"colorbar\":{\"outlinewidth\":0,\"ticks\":\"\"}},\"colorscale\":{\"sequential\":[[0.0,\"#0d0887\"],[0.1111111111111111,\"#46039f\"],[0.2222222222222222,\"#7201a8\"],[0.3333333333333333,\"#9c179e\"],[0.4444444444444444,\"#bd3786\"],[0.5555555555555556,\"#d8576b\"],[0.6666666666666666,\"#ed7953\"],[0.7777777777777778,\"#fb9f3a\"],[0.8888888888888888,\"#fdca26\"],[1.0,\"#f0f921\"]],\"sequentialminus\":[[0.0,\"#0d0887\"],[0.1111111111111111,\"#46039f\"],[0.2222222222222222,\"#7201a8\"],[0.3333333333333333,\"#9c179e\"],[0.4444444444444444,\"#bd3786\"],[0.5555555555555556,\"#d8576b\"],[0.6666666666666666,\"#ed7953\"],[0.7777777777777778,\"#fb9f3a\"],[0.8888888888888888,\"#fdca26\"],[1.0,\"#f0f921\"]],\"diverging\":[[0,\"#8e0152\"],[0.1,\"#c51b7d\"],[0.2,\"#de77ae\"],[0.3,\"#f1b6da\"],[0.4,\"#fde0ef\"],[0.5,\"#f7f7f7\"],[0.6,\"#e6f5d0\"],[0.7,\"#b8e186\"],[0.8,\"#7fbc41\"],[0.9,\"#4d9221\"],[1,\"#276419\"]]},\"xaxis\":{\"gridcolor\":\"white\",\"linecolor\":\"white\",\"ticks\":\"\",\"title\":{\"standoff\":15},\"zerolinecolor\":\"white\",\"automargin\":true,\"zerolinewidth\":2},\"yaxis\":{\"gridcolor\":\"white\",\"linecolor\":\"white\",\"ticks\":\"\",\"title\":{\"standoff\":15},\"zerolinecolor\":\"white\",\"automargin\":true,\"zerolinewidth\":2},\"scene\":{\"xaxis\":{\"backgroundcolor\":\"#E5ECF6\",\"gridcolor\":\"white\",\"linecolor\":\"white\",\"showbackground\":true,\"ticks\":\"\",\"zerolinecolor\":\"white\",\"gridwidth\":2},\"yaxis\":{\"backgroundcolor\":\"#E5ECF6\",\"gridcolor\":\"white\",\"linecolor\":\"white\",\"showbackground\":true,\"ticks\":\"\",\"zerolinecolor\":\"white\",\"gridwidth\":2},\"zaxis\":{\"backgroundcolor\":\"#E5ECF6\",\"gridcolor\":\"white\",\"linecolor\":\"white\",\"showbackground\":true,\"ticks\":\"\",\"zerolinecolor\":\"white\",\"gridwidth\":2}},\"shapedefaults\":{\"line\":{\"color\":\"#2a3f5f\"}},\"annotationdefaults\":{\"arrowcolor\":\"#2a3f5f\",\"arrowhead\":0,\"arrowwidth\":1},\"geo\":{\"bgcolor\":\"white\",\"landcolor\":\"#E5ECF6\",\"subunitcolor\":\"white\",\"showland\":true,\"showlakes\":true,\"lakecolor\":\"white\"},\"title\":{\"x\":0.05},\"mapbox\":{\"style\":\"light\"}}},\"xaxis\":{\"anchor\":\"y\",\"domain\":[0.0,1.0],\"title\":{\"text\":\"principal component 1\"}},\"yaxis\":{\"anchor\":\"x\",\"domain\":[0.0,1.0],\"title\":{\"text\":\"principal component 2\"}},\"legend\":{\"title\":{\"text\":\"Sous type\"},\"tracegroupgap\":0},\"margin\":{\"t\":60}},                        {\"responsive\": true}                    ).then(function(){\n",
       "                            \n",
       "var gd = document.getElementById('22469bd6-93f3-4f23-abff-73916bfa09ad');\n",
       "var x = new MutationObserver(function (mutations, observer) {{\n",
       "        var display = window.getComputedStyle(gd).display;\n",
       "        if (!display || display === 'none') {{\n",
       "            console.log([gd, 'removed!']);\n",
       "            Plotly.purge(gd);\n",
       "            observer.disconnect();\n",
       "        }}\n",
       "}});\n",
       "\n",
       "// Listen for the removal of the full notebook cells\n",
       "var notebookContainer = gd.closest('#notebook-container');\n",
       "if (notebookContainer) {{\n",
       "    x.observe(notebookContainer, {childList: true});\n",
       "}}\n",
       "\n",
       "// Listen for the clearing of the current output cell\n",
       "var outputEl = gd.closest('.output');\n",
       "if (outputEl) {{\n",
       "    x.observe(outputEl, {childList: true});\n",
       "}}\n",
       "\n",
       "                        })                };                });            </script>        </div>"
      ]
     },
     "metadata": {},
     "output_type": "display_data"
    }
   ],
   "source": [
    "fig = px.scatter(principal_Df, x= \"principal component 1\", y=\"principal component 2\", color=Y,labels={'color':'Sous type'})\n",
    "fig.show()"
   ]
  },
  {
   "cell_type": "code",
   "execution_count": 52,
   "id": "2ed9de33",
   "metadata": {},
   "outputs": [
    {
     "name": "stdout",
     "output_type": "stream",
     "text": [
      "Explained variation per principal component: [0.32365694 0.19291794 0.0655635 ]\n"
     ]
    },
    {
     "data": {
      "application/vnd.plotly.v1+json": {
       "config": {
        "plotlyServerURL": "https://plot.ly"
       },
       "data": [
        {
         "hovertemplate": "Sous type=Normal<br>principal component 1=%{x}<br>principal component 2=%{y}<br>principal component 3=%{z}<extra></extra>",
         "legendgroup": "Normal",
         "marker": {
          "color": "#636efa",
          "symbol": "circle"
         },
         "mode": "markers",
         "name": "Normal",
         "scene": "scene",
         "showlegend": true,
         "type": "scatter3d",
         "x": [
          5.8302616314346425,
          6.066309976960782,
          2.884640171877599,
          7.274630918233494,
          5.030112748450119,
          7.79539889529017,
          4.954485178761308,
          5.813838340646901
         ],
         "y": [
          5.043091263239134,
          4.371374991199126,
          4.932292497229198,
          6.850261885875033,
          4.435623002068596,
          5.426785954094452,
          4.616163387835145,
          4.74861916613157
         ],
         "z": [
          1.5846436579084942,
          0.6097353327437693,
          0.3939019723172097,
          1.1085426748675533,
          1.5342899152603051,
          -0.27467141482480323,
          -0.512523112274939,
          -0.3697020548612674
         ]
        },
        {
         "hovertemplate": "Sous type=Basal<br>principal component 1=%{x}<br>principal component 2=%{y}<br>principal component 3=%{z}<extra></extra>",
         "legendgroup": "Basal",
         "marker": {
          "color": "#EF553B",
          "symbol": "circle"
         },
         "mode": "markers",
         "name": "Basal",
         "scene": "scene",
         "showlegend": true,
         "type": "scatter3d",
         "x": [
          -5.054837688041093,
          -5.913758478485953,
          -5.773738619958317,
          -1.7196617513919619,
          -1.419717384945147,
          -6.492780509257696,
          -4.228308493716644,
          -3.3592469619962153,
          -4.04183183689791,
          -3.197560780838546,
          0.2457405158000227,
          -6.537235695909321,
          -4.260022670894597,
          -1.1568082325150684,
          -6.482914844528819,
          -3.410623989500495,
          -1.3388525111588168,
          -7.0805133163537946,
          -4.7411177230929225,
          -6.067346545369685,
          -3.162711593159493,
          -2.49090929382355
         ],
         "y": [
          4.9643103870280845,
          2.1933865183931887,
          1.6641319195145474,
          3.431730334262805,
          4.485823415960894,
          2.2315285541548517,
          1.295521340634651,
          3.4074165040308286,
          1.1648730665867697,
          3.0869990987781963,
          2.3083372905764676,
          2.0639922865436344,
          1.8063073201238249,
          4.64214636626133,
          1.7822060710649448,
          2.8693347422079674,
          3.812266381880277,
          2.3806749676731687,
          0.8760312451269784,
          0.06024621810986912,
          4.3792716545405455,
          2.5144596663898096
         ],
         "z": [
          0.6676333594410038,
          -0.7819740369393404,
          -1.375386922985893,
          -0.3717556594972543,
          0.9967033217717473,
          0.39627412103795023,
          -0.9116388714636338,
          0.08690944962826119,
          -1.6536491444708152,
          -0.18118256500946686,
          0.3162070443466556,
          -2.5958649753198593,
          -0.7088374338916772,
          1.6104644692735377,
          -0.011269297505334439,
          -0.08361702480801966,
          0.734133541936464,
          -1.9863398527630236,
          -0.36612785750570914,
          -0.4394149136915107,
          -0.08427177016804417,
          -1.5152022690297302
         ]
        },
        {
         "hovertemplate": "Sous type=Her2<br>principal component 1=%{x}<br>principal component 2=%{y}<br>principal component 3=%{z}<extra></extra>",
         "legendgroup": "Her2",
         "marker": {
          "color": "#00cc96",
          "symbol": "circle"
         },
         "mode": "markers",
         "name": "Her2",
         "scene": "scene",
         "showlegend": true,
         "type": "scatter3d",
         "x": [
          -4.5689911998785,
          -2.390596065486188,
          0.8001827806980241,
          -1.3557282795738523,
          1.2785321575331834,
          -2.571111020786426,
          -2.8800712372900232,
          4.631559384341615,
          1.094252410127959,
          0.25027114844248033,
          1.3460703749857919,
          1.0633921193743825,
          -0.496065117241165,
          0.5859677923275564,
          1.2118314720862269,
          0.7114202488217231,
          1.92133893869104,
          1.9858959817196478,
          -2.7699144001444753,
          -2.6418413085139196,
          -2.8767085964783283,
          2.0248390443929796,
          -0.6310013514571576,
          -0.8724922803390404,
          1.2901720050174272
         ],
         "y": [
          -0.209196026970215,
          -1.083139255870881,
          -1.663517911503591,
          -1.512089852750073,
          -1.0327605443513246,
          -1.185510530464431,
          -1.85163517826203,
          -1.502013933103446,
          -3.0702777495740725,
          -4.358513577270668,
          -4.171546683749662,
          -2.296182703691241,
          -3.9342209376338864,
          -2.7935689471946143,
          -3.7185882985708365,
          -1.650746269841673,
          -1.8984330834398913,
          -2.9518996923534986,
          -3.4960849253195105,
          -1.5938349755844838,
          -2.6212358268383067,
          -3.1032686789265447,
          -3.0241436238689205,
          -3.6052357125913645,
          -3.5057653795075985
         ],
         "z": [
          1.9445512691707207,
          -0.8354290256923972,
          3.046524512371279,
          2.6349980266187427,
          2.5094243126271483,
          0.9672709823354269,
          0.9452540951899195,
          1.3329342236744888,
          -0.6013420234158813,
          2.508459218336596,
          -0.8776381753835523,
          -1.6043490511391236,
          2.7503010157837418,
          -0.4518701535926314,
          3.3623093000024715,
          1.7738253299007838,
          -1.9199541788583185,
          0.1032046880630963,
          3.4368891987763015,
          2.8025619055335493,
          2.726044593839785,
          2.388208241959238,
          2.177045208440736,
          0.6401764051001858,
          5.116488670255418
         ]
        },
        {
         "hovertemplate": "Sous type=LumA<br>principal component 1=%{x}<br>principal component 2=%{y}<br>principal component 3=%{z}<extra></extra>",
         "legendgroup": "LumA",
         "marker": {
          "color": "#ab63fa",
          "symbol": "circle"
         },
         "mode": "markers",
         "name": "LumA",
         "scene": "scene",
         "showlegend": true,
         "type": "scatter3d",
         "x": [
          4.2869853351827585,
          4.871073243334317,
          5.140067605773519,
          6.7804742911856435,
          2.820526704945387,
          5.987457397000117,
          7.345928222259514,
          4.998633016466945,
          7.616153892129449
         ],
         "y": [
          -0.573689460443974,
          -1.7086440782660677,
          -1.3083698300966315,
          -1.7024407289991443,
          -0.9608259130939864,
          -0.40322081289292216,
          -1.1152026404024364,
          -0.550392530761931,
          0.6013258845955074
         ],
         "z": [
          -1.056171999062836,
          -2.243796220404495,
          -1.574828853839143,
          -0.9131498490779388,
          -2.3516848162355775,
          -1.9867279633390298,
          -1.028354359416231,
          -1.3943686711955479,
          -1.0802695667933189
         ]
        },
        {
         "hovertemplate": "Sous type=LumB<br>principal component 1=%{x}<br>principal component 2=%{y}<br>principal component 3=%{z}<extra></extra>",
         "legendgroup": "LumB",
         "marker": {
          "color": "#FFA15A",
          "symbol": "circle"
         },
         "mode": "markers",
         "name": "LumB",
         "scene": "scene",
         "showlegend": true,
         "type": "scatter3d",
         "x": [
          -4.294125561081046,
          1.4501489825479552,
          1.0182138632395106,
          -3.6503425264468574,
          -1.6045425040690793,
          0.2554110295121599,
          1.8786416491052305,
          0.9931709019245287
         ],
         "y": [
          -2.308251445809096,
          -2.907196387148685,
          -4.167613830874372,
          -3.9020142166865486,
          -4.601457788505964,
          -4.374465379788004,
          -3.7482121733271176,
          -2.2811258657817532
         ],
         "z": [
          -2.463483470962805,
          -2.830911894642071,
          -1.9793616036817714,
          -3.229843214028188,
          -1.632113078305649,
          -3.7230666572366586,
          -1.9036154678250066,
          -1.3001505873740968
         ]
        }
       ],
       "layout": {
        "legend": {
         "title": {
          "text": "Sous type"
         },
         "tracegroupgap": 0
        },
        "margin": {
         "t": 60
        },
        "scene": {
         "domain": {
          "x": [
           0,
           1
          ],
          "y": [
           0,
           1
          ]
         },
         "xaxis": {
          "title": {
           "text": "principal component 1"
          }
         },
         "yaxis": {
          "title": {
           "text": "principal component 2"
          }
         },
         "zaxis": {
          "title": {
           "text": "principal component 3"
          }
         }
        },
        "template": {
         "data": {
          "bar": [
           {
            "error_x": {
             "color": "#2a3f5f"
            },
            "error_y": {
             "color": "#2a3f5f"
            },
            "marker": {
             "line": {
              "color": "#E5ECF6",
              "width": 0.5
             },
             "pattern": {
              "fillmode": "overlay",
              "size": 10,
              "solidity": 0.2
             }
            },
            "type": "bar"
           }
          ],
          "barpolar": [
           {
            "marker": {
             "line": {
              "color": "#E5ECF6",
              "width": 0.5
             },
             "pattern": {
              "fillmode": "overlay",
              "size": 10,
              "solidity": 0.2
             }
            },
            "type": "barpolar"
           }
          ],
          "carpet": [
           {
            "aaxis": {
             "endlinecolor": "#2a3f5f",
             "gridcolor": "white",
             "linecolor": "white",
             "minorgridcolor": "white",
             "startlinecolor": "#2a3f5f"
            },
            "baxis": {
             "endlinecolor": "#2a3f5f",
             "gridcolor": "white",
             "linecolor": "white",
             "minorgridcolor": "white",
             "startlinecolor": "#2a3f5f"
            },
            "type": "carpet"
           }
          ],
          "choropleth": [
           {
            "colorbar": {
             "outlinewidth": 0,
             "ticks": ""
            },
            "type": "choropleth"
           }
          ],
          "contour": [
           {
            "colorbar": {
             "outlinewidth": 0,
             "ticks": ""
            },
            "colorscale": [
             [
              0,
              "#0d0887"
             ],
             [
              0.1111111111111111,
              "#46039f"
             ],
             [
              0.2222222222222222,
              "#7201a8"
             ],
             [
              0.3333333333333333,
              "#9c179e"
             ],
             [
              0.4444444444444444,
              "#bd3786"
             ],
             [
              0.5555555555555556,
              "#d8576b"
             ],
             [
              0.6666666666666666,
              "#ed7953"
             ],
             [
              0.7777777777777778,
              "#fb9f3a"
             ],
             [
              0.8888888888888888,
              "#fdca26"
             ],
             [
              1,
              "#f0f921"
             ]
            ],
            "type": "contour"
           }
          ],
          "contourcarpet": [
           {
            "colorbar": {
             "outlinewidth": 0,
             "ticks": ""
            },
            "type": "contourcarpet"
           }
          ],
          "heatmap": [
           {
            "colorbar": {
             "outlinewidth": 0,
             "ticks": ""
            },
            "colorscale": [
             [
              0,
              "#0d0887"
             ],
             [
              0.1111111111111111,
              "#46039f"
             ],
             [
              0.2222222222222222,
              "#7201a8"
             ],
             [
              0.3333333333333333,
              "#9c179e"
             ],
             [
              0.4444444444444444,
              "#bd3786"
             ],
             [
              0.5555555555555556,
              "#d8576b"
             ],
             [
              0.6666666666666666,
              "#ed7953"
             ],
             [
              0.7777777777777778,
              "#fb9f3a"
             ],
             [
              0.8888888888888888,
              "#fdca26"
             ],
             [
              1,
              "#f0f921"
             ]
            ],
            "type": "heatmap"
           }
          ],
          "heatmapgl": [
           {
            "colorbar": {
             "outlinewidth": 0,
             "ticks": ""
            },
            "colorscale": [
             [
              0,
              "#0d0887"
             ],
             [
              0.1111111111111111,
              "#46039f"
             ],
             [
              0.2222222222222222,
              "#7201a8"
             ],
             [
              0.3333333333333333,
              "#9c179e"
             ],
             [
              0.4444444444444444,
              "#bd3786"
             ],
             [
              0.5555555555555556,
              "#d8576b"
             ],
             [
              0.6666666666666666,
              "#ed7953"
             ],
             [
              0.7777777777777778,
              "#fb9f3a"
             ],
             [
              0.8888888888888888,
              "#fdca26"
             ],
             [
              1,
              "#f0f921"
             ]
            ],
            "type": "heatmapgl"
           }
          ],
          "histogram": [
           {
            "marker": {
             "pattern": {
              "fillmode": "overlay",
              "size": 10,
              "solidity": 0.2
             }
            },
            "type": "histogram"
           }
          ],
          "histogram2d": [
           {
            "colorbar": {
             "outlinewidth": 0,
             "ticks": ""
            },
            "colorscale": [
             [
              0,
              "#0d0887"
             ],
             [
              0.1111111111111111,
              "#46039f"
             ],
             [
              0.2222222222222222,
              "#7201a8"
             ],
             [
              0.3333333333333333,
              "#9c179e"
             ],
             [
              0.4444444444444444,
              "#bd3786"
             ],
             [
              0.5555555555555556,
              "#d8576b"
             ],
             [
              0.6666666666666666,
              "#ed7953"
             ],
             [
              0.7777777777777778,
              "#fb9f3a"
             ],
             [
              0.8888888888888888,
              "#fdca26"
             ],
             [
              1,
              "#f0f921"
             ]
            ],
            "type": "histogram2d"
           }
          ],
          "histogram2dcontour": [
           {
            "colorbar": {
             "outlinewidth": 0,
             "ticks": ""
            },
            "colorscale": [
             [
              0,
              "#0d0887"
             ],
             [
              0.1111111111111111,
              "#46039f"
             ],
             [
              0.2222222222222222,
              "#7201a8"
             ],
             [
              0.3333333333333333,
              "#9c179e"
             ],
             [
              0.4444444444444444,
              "#bd3786"
             ],
             [
              0.5555555555555556,
              "#d8576b"
             ],
             [
              0.6666666666666666,
              "#ed7953"
             ],
             [
              0.7777777777777778,
              "#fb9f3a"
             ],
             [
              0.8888888888888888,
              "#fdca26"
             ],
             [
              1,
              "#f0f921"
             ]
            ],
            "type": "histogram2dcontour"
           }
          ],
          "mesh3d": [
           {
            "colorbar": {
             "outlinewidth": 0,
             "ticks": ""
            },
            "type": "mesh3d"
           }
          ],
          "parcoords": [
           {
            "line": {
             "colorbar": {
              "outlinewidth": 0,
              "ticks": ""
             }
            },
            "type": "parcoords"
           }
          ],
          "pie": [
           {
            "automargin": true,
            "type": "pie"
           }
          ],
          "scatter": [
           {
            "fillpattern": {
             "fillmode": "overlay",
             "size": 10,
             "solidity": 0.2
            },
            "type": "scatter"
           }
          ],
          "scatter3d": [
           {
            "line": {
             "colorbar": {
              "outlinewidth": 0,
              "ticks": ""
             }
            },
            "marker": {
             "colorbar": {
              "outlinewidth": 0,
              "ticks": ""
             }
            },
            "type": "scatter3d"
           }
          ],
          "scattercarpet": [
           {
            "marker": {
             "colorbar": {
              "outlinewidth": 0,
              "ticks": ""
             }
            },
            "type": "scattercarpet"
           }
          ],
          "scattergeo": [
           {
            "marker": {
             "colorbar": {
              "outlinewidth": 0,
              "ticks": ""
             }
            },
            "type": "scattergeo"
           }
          ],
          "scattergl": [
           {
            "marker": {
             "colorbar": {
              "outlinewidth": 0,
              "ticks": ""
             }
            },
            "type": "scattergl"
           }
          ],
          "scattermapbox": [
           {
            "marker": {
             "colorbar": {
              "outlinewidth": 0,
              "ticks": ""
             }
            },
            "type": "scattermapbox"
           }
          ],
          "scatterpolar": [
           {
            "marker": {
             "colorbar": {
              "outlinewidth": 0,
              "ticks": ""
             }
            },
            "type": "scatterpolar"
           }
          ],
          "scatterpolargl": [
           {
            "marker": {
             "colorbar": {
              "outlinewidth": 0,
              "ticks": ""
             }
            },
            "type": "scatterpolargl"
           }
          ],
          "scatterternary": [
           {
            "marker": {
             "colorbar": {
              "outlinewidth": 0,
              "ticks": ""
             }
            },
            "type": "scatterternary"
           }
          ],
          "surface": [
           {
            "colorbar": {
             "outlinewidth": 0,
             "ticks": ""
            },
            "colorscale": [
             [
              0,
              "#0d0887"
             ],
             [
              0.1111111111111111,
              "#46039f"
             ],
             [
              0.2222222222222222,
              "#7201a8"
             ],
             [
              0.3333333333333333,
              "#9c179e"
             ],
             [
              0.4444444444444444,
              "#bd3786"
             ],
             [
              0.5555555555555556,
              "#d8576b"
             ],
             [
              0.6666666666666666,
              "#ed7953"
             ],
             [
              0.7777777777777778,
              "#fb9f3a"
             ],
             [
              0.8888888888888888,
              "#fdca26"
             ],
             [
              1,
              "#f0f921"
             ]
            ],
            "type": "surface"
           }
          ],
          "table": [
           {
            "cells": {
             "fill": {
              "color": "#EBF0F8"
             },
             "line": {
              "color": "white"
             }
            },
            "header": {
             "fill": {
              "color": "#C8D4E3"
             },
             "line": {
              "color": "white"
             }
            },
            "type": "table"
           }
          ]
         },
         "layout": {
          "annotationdefaults": {
           "arrowcolor": "#2a3f5f",
           "arrowhead": 0,
           "arrowwidth": 1
          },
          "autotypenumbers": "strict",
          "coloraxis": {
           "colorbar": {
            "outlinewidth": 0,
            "ticks": ""
           }
          },
          "colorscale": {
           "diverging": [
            [
             0,
             "#8e0152"
            ],
            [
             0.1,
             "#c51b7d"
            ],
            [
             0.2,
             "#de77ae"
            ],
            [
             0.3,
             "#f1b6da"
            ],
            [
             0.4,
             "#fde0ef"
            ],
            [
             0.5,
             "#f7f7f7"
            ],
            [
             0.6,
             "#e6f5d0"
            ],
            [
             0.7,
             "#b8e186"
            ],
            [
             0.8,
             "#7fbc41"
            ],
            [
             0.9,
             "#4d9221"
            ],
            [
             1,
             "#276419"
            ]
           ],
           "sequential": [
            [
             0,
             "#0d0887"
            ],
            [
             0.1111111111111111,
             "#46039f"
            ],
            [
             0.2222222222222222,
             "#7201a8"
            ],
            [
             0.3333333333333333,
             "#9c179e"
            ],
            [
             0.4444444444444444,
             "#bd3786"
            ],
            [
             0.5555555555555556,
             "#d8576b"
            ],
            [
             0.6666666666666666,
             "#ed7953"
            ],
            [
             0.7777777777777778,
             "#fb9f3a"
            ],
            [
             0.8888888888888888,
             "#fdca26"
            ],
            [
             1,
             "#f0f921"
            ]
           ],
           "sequentialminus": [
            [
             0,
             "#0d0887"
            ],
            [
             0.1111111111111111,
             "#46039f"
            ],
            [
             0.2222222222222222,
             "#7201a8"
            ],
            [
             0.3333333333333333,
             "#9c179e"
            ],
            [
             0.4444444444444444,
             "#bd3786"
            ],
            [
             0.5555555555555556,
             "#d8576b"
            ],
            [
             0.6666666666666666,
             "#ed7953"
            ],
            [
             0.7777777777777778,
             "#fb9f3a"
            ],
            [
             0.8888888888888888,
             "#fdca26"
            ],
            [
             1,
             "#f0f921"
            ]
           ]
          },
          "colorway": [
           "#636efa",
           "#EF553B",
           "#00cc96",
           "#ab63fa",
           "#FFA15A",
           "#19d3f3",
           "#FF6692",
           "#B6E880",
           "#FF97FF",
           "#FECB52"
          ],
          "font": {
           "color": "#2a3f5f"
          },
          "geo": {
           "bgcolor": "white",
           "lakecolor": "white",
           "landcolor": "#E5ECF6",
           "showlakes": true,
           "showland": true,
           "subunitcolor": "white"
          },
          "hoverlabel": {
           "align": "left"
          },
          "hovermode": "closest",
          "mapbox": {
           "style": "light"
          },
          "paper_bgcolor": "white",
          "plot_bgcolor": "#E5ECF6",
          "polar": {
           "angularaxis": {
            "gridcolor": "white",
            "linecolor": "white",
            "ticks": ""
           },
           "bgcolor": "#E5ECF6",
           "radialaxis": {
            "gridcolor": "white",
            "linecolor": "white",
            "ticks": ""
           }
          },
          "scene": {
           "xaxis": {
            "backgroundcolor": "#E5ECF6",
            "gridcolor": "white",
            "gridwidth": 2,
            "linecolor": "white",
            "showbackground": true,
            "ticks": "",
            "zerolinecolor": "white"
           },
           "yaxis": {
            "backgroundcolor": "#E5ECF6",
            "gridcolor": "white",
            "gridwidth": 2,
            "linecolor": "white",
            "showbackground": true,
            "ticks": "",
            "zerolinecolor": "white"
           },
           "zaxis": {
            "backgroundcolor": "#E5ECF6",
            "gridcolor": "white",
            "gridwidth": 2,
            "linecolor": "white",
            "showbackground": true,
            "ticks": "",
            "zerolinecolor": "white"
           }
          },
          "shapedefaults": {
           "line": {
            "color": "#2a3f5f"
           }
          },
          "ternary": {
           "aaxis": {
            "gridcolor": "white",
            "linecolor": "white",
            "ticks": ""
           },
           "baxis": {
            "gridcolor": "white",
            "linecolor": "white",
            "ticks": ""
           },
           "bgcolor": "#E5ECF6",
           "caxis": {
            "gridcolor": "white",
            "linecolor": "white",
            "ticks": ""
           }
          },
          "title": {
           "x": 0.05
          },
          "xaxis": {
           "automargin": true,
           "gridcolor": "white",
           "linecolor": "white",
           "ticks": "",
           "title": {
            "standoff": 15
           },
           "zerolinecolor": "white",
           "zerolinewidth": 2
          },
          "yaxis": {
           "automargin": true,
           "gridcolor": "white",
           "linecolor": "white",
           "ticks": "",
           "title": {
            "standoff": 15
           },
           "zerolinecolor": "white",
           "zerolinewidth": 2
          }
         }
        }
       }
      },
      "text/html": [
       "<div>                            <div id=\"944ed4cb-71ac-4478-8c54-761974f03b90\" class=\"plotly-graph-div\" style=\"height:525px; width:100%;\"></div>            <script type=\"text/javascript\">                require([\"plotly\"], function(Plotly) {                    window.PLOTLYENV=window.PLOTLYENV || {};                                    if (document.getElementById(\"944ed4cb-71ac-4478-8c54-761974f03b90\")) {                    Plotly.newPlot(                        \"944ed4cb-71ac-4478-8c54-761974f03b90\",                        [{\"hovertemplate\":\"Sous type=Normal<br>principal component 1=%{x}<br>principal component 2=%{y}<br>principal component 3=%{z}<extra></extra>\",\"legendgroup\":\"Normal\",\"marker\":{\"color\":\"#636efa\",\"symbol\":\"circle\"},\"mode\":\"markers\",\"name\":\"Normal\",\"scene\":\"scene\",\"showlegend\":true,\"x\":[5.8302616314346425,6.066309976960782,2.884640171877599,7.274630918233494,5.030112748450119,7.79539889529017,4.954485178761308,5.813838340646901],\"y\":[5.043091263239134,4.371374991199126,4.932292497229198,6.850261885875033,4.435623002068596,5.426785954094452,4.616163387835145,4.74861916613157],\"z\":[1.5846436579084942,0.6097353327437693,0.3939019723172097,1.1085426748675533,1.5342899152603051,-0.27467141482480323,-0.512523112274939,-0.3697020548612674],\"type\":\"scatter3d\"},{\"hovertemplate\":\"Sous type=Basal<br>principal component 1=%{x}<br>principal component 2=%{y}<br>principal component 3=%{z}<extra></extra>\",\"legendgroup\":\"Basal\",\"marker\":{\"color\":\"#EF553B\",\"symbol\":\"circle\"},\"mode\":\"markers\",\"name\":\"Basal\",\"scene\":\"scene\",\"showlegend\":true,\"x\":[-5.054837688041093,-5.913758478485953,-5.773738619958317,-1.7196617513919619,-1.419717384945147,-6.492780509257696,-4.228308493716644,-3.3592469619962153,-4.04183183689791,-3.197560780838546,0.2457405158000227,-6.537235695909321,-4.260022670894597,-1.1568082325150684,-6.482914844528819,-3.410623989500495,-1.3388525111588168,-7.0805133163537946,-4.7411177230929225,-6.067346545369685,-3.162711593159493,-2.49090929382355],\"y\":[4.9643103870280845,2.1933865183931887,1.6641319195145474,3.431730334262805,4.485823415960894,2.2315285541548517,1.295521340634651,3.4074165040308286,1.1648730665867697,3.0869990987781963,2.3083372905764676,2.0639922865436344,1.8063073201238249,4.64214636626133,1.7822060710649448,2.8693347422079674,3.812266381880277,2.3806749676731687,0.8760312451269784,0.06024621810986912,4.3792716545405455,2.5144596663898096],\"z\":[0.6676333594410038,-0.7819740369393404,-1.375386922985893,-0.3717556594972543,0.9967033217717473,0.39627412103795023,-0.9116388714636338,0.08690944962826119,-1.6536491444708152,-0.18118256500946686,0.3162070443466556,-2.5958649753198593,-0.7088374338916772,1.6104644692735377,-0.011269297505334439,-0.08361702480801966,0.734133541936464,-1.9863398527630236,-0.36612785750570914,-0.4394149136915107,-0.08427177016804417,-1.5152022690297302],\"type\":\"scatter3d\"},{\"hovertemplate\":\"Sous type=Her2<br>principal component 1=%{x}<br>principal component 2=%{y}<br>principal component 3=%{z}<extra></extra>\",\"legendgroup\":\"Her2\",\"marker\":{\"color\":\"#00cc96\",\"symbol\":\"circle\"},\"mode\":\"markers\",\"name\":\"Her2\",\"scene\":\"scene\",\"showlegend\":true,\"x\":[-4.5689911998785,-2.390596065486188,0.8001827806980241,-1.3557282795738523,1.2785321575331834,-2.571111020786426,-2.8800712372900232,4.631559384341615,1.094252410127959,0.25027114844248033,1.3460703749857919,1.0633921193743825,-0.496065117241165,0.5859677923275564,1.2118314720862269,0.7114202488217231,1.92133893869104,1.9858959817196478,-2.7699144001444753,-2.6418413085139196,-2.8767085964783283,2.0248390443929796,-0.6310013514571576,-0.8724922803390404,1.2901720050174272],\"y\":[-0.209196026970215,-1.083139255870881,-1.663517911503591,-1.512089852750073,-1.0327605443513246,-1.185510530464431,-1.85163517826203,-1.502013933103446,-3.0702777495740725,-4.358513577270668,-4.171546683749662,-2.296182703691241,-3.9342209376338864,-2.7935689471946143,-3.7185882985708365,-1.650746269841673,-1.8984330834398913,-2.9518996923534986,-3.4960849253195105,-1.5938349755844838,-2.6212358268383067,-3.1032686789265447,-3.0241436238689205,-3.6052357125913645,-3.5057653795075985],\"z\":[1.9445512691707207,-0.8354290256923972,3.046524512371279,2.6349980266187427,2.5094243126271483,0.9672709823354269,0.9452540951899195,1.3329342236744888,-0.6013420234158813,2.508459218336596,-0.8776381753835523,-1.6043490511391236,2.7503010157837418,-0.4518701535926314,3.3623093000024715,1.7738253299007838,-1.9199541788583185,0.1032046880630963,3.4368891987763015,2.8025619055335493,2.726044593839785,2.388208241959238,2.177045208440736,0.6401764051001858,5.116488670255418],\"type\":\"scatter3d\"},{\"hovertemplate\":\"Sous type=LumA<br>principal component 1=%{x}<br>principal component 2=%{y}<br>principal component 3=%{z}<extra></extra>\",\"legendgroup\":\"LumA\",\"marker\":{\"color\":\"#ab63fa\",\"symbol\":\"circle\"},\"mode\":\"markers\",\"name\":\"LumA\",\"scene\":\"scene\",\"showlegend\":true,\"x\":[4.2869853351827585,4.871073243334317,5.140067605773519,6.7804742911856435,2.820526704945387,5.987457397000117,7.345928222259514,4.998633016466945,7.616153892129449],\"y\":[-0.573689460443974,-1.7086440782660677,-1.3083698300966315,-1.7024407289991443,-0.9608259130939864,-0.40322081289292216,-1.1152026404024364,-0.550392530761931,0.6013258845955074],\"z\":[-1.056171999062836,-2.243796220404495,-1.574828853839143,-0.9131498490779388,-2.3516848162355775,-1.9867279633390298,-1.028354359416231,-1.3943686711955479,-1.0802695667933189],\"type\":\"scatter3d\"},{\"hovertemplate\":\"Sous type=LumB<br>principal component 1=%{x}<br>principal component 2=%{y}<br>principal component 3=%{z}<extra></extra>\",\"legendgroup\":\"LumB\",\"marker\":{\"color\":\"#FFA15A\",\"symbol\":\"circle\"},\"mode\":\"markers\",\"name\":\"LumB\",\"scene\":\"scene\",\"showlegend\":true,\"x\":[-4.294125561081046,1.4501489825479552,1.0182138632395106,-3.6503425264468574,-1.6045425040690793,0.2554110295121599,1.8786416491052305,0.9931709019245287],\"y\":[-2.308251445809096,-2.907196387148685,-4.167613830874372,-3.9020142166865486,-4.601457788505964,-4.374465379788004,-3.7482121733271176,-2.2811258657817532],\"z\":[-2.463483470962805,-2.830911894642071,-1.9793616036817714,-3.229843214028188,-1.632113078305649,-3.7230666572366586,-1.9036154678250066,-1.3001505873740968],\"type\":\"scatter3d\"}],                        {\"template\":{\"data\":{\"histogram2dcontour\":[{\"type\":\"histogram2dcontour\",\"colorbar\":{\"outlinewidth\":0,\"ticks\":\"\"},\"colorscale\":[[0.0,\"#0d0887\"],[0.1111111111111111,\"#46039f\"],[0.2222222222222222,\"#7201a8\"],[0.3333333333333333,\"#9c179e\"],[0.4444444444444444,\"#bd3786\"],[0.5555555555555556,\"#d8576b\"],[0.6666666666666666,\"#ed7953\"],[0.7777777777777778,\"#fb9f3a\"],[0.8888888888888888,\"#fdca26\"],[1.0,\"#f0f921\"]]}],\"choropleth\":[{\"type\":\"choropleth\",\"colorbar\":{\"outlinewidth\":0,\"ticks\":\"\"}}],\"histogram2d\":[{\"type\":\"histogram2d\",\"colorbar\":{\"outlinewidth\":0,\"ticks\":\"\"},\"colorscale\":[[0.0,\"#0d0887\"],[0.1111111111111111,\"#46039f\"],[0.2222222222222222,\"#7201a8\"],[0.3333333333333333,\"#9c179e\"],[0.4444444444444444,\"#bd3786\"],[0.5555555555555556,\"#d8576b\"],[0.6666666666666666,\"#ed7953\"],[0.7777777777777778,\"#fb9f3a\"],[0.8888888888888888,\"#fdca26\"],[1.0,\"#f0f921\"]]}],\"heatmap\":[{\"type\":\"heatmap\",\"colorbar\":{\"outlinewidth\":0,\"ticks\":\"\"},\"colorscale\":[[0.0,\"#0d0887\"],[0.1111111111111111,\"#46039f\"],[0.2222222222222222,\"#7201a8\"],[0.3333333333333333,\"#9c179e\"],[0.4444444444444444,\"#bd3786\"],[0.5555555555555556,\"#d8576b\"],[0.6666666666666666,\"#ed7953\"],[0.7777777777777778,\"#fb9f3a\"],[0.8888888888888888,\"#fdca26\"],[1.0,\"#f0f921\"]]}],\"heatmapgl\":[{\"type\":\"heatmapgl\",\"colorbar\":{\"outlinewidth\":0,\"ticks\":\"\"},\"colorscale\":[[0.0,\"#0d0887\"],[0.1111111111111111,\"#46039f\"],[0.2222222222222222,\"#7201a8\"],[0.3333333333333333,\"#9c179e\"],[0.4444444444444444,\"#bd3786\"],[0.5555555555555556,\"#d8576b\"],[0.6666666666666666,\"#ed7953\"],[0.7777777777777778,\"#fb9f3a\"],[0.8888888888888888,\"#fdca26\"],[1.0,\"#f0f921\"]]}],\"contourcarpet\":[{\"type\":\"contourcarpet\",\"colorbar\":{\"outlinewidth\":0,\"ticks\":\"\"}}],\"contour\":[{\"type\":\"contour\",\"colorbar\":{\"outlinewidth\":0,\"ticks\":\"\"},\"colorscale\":[[0.0,\"#0d0887\"],[0.1111111111111111,\"#46039f\"],[0.2222222222222222,\"#7201a8\"],[0.3333333333333333,\"#9c179e\"],[0.4444444444444444,\"#bd3786\"],[0.5555555555555556,\"#d8576b\"],[0.6666666666666666,\"#ed7953\"],[0.7777777777777778,\"#fb9f3a\"],[0.8888888888888888,\"#fdca26\"],[1.0,\"#f0f921\"]]}],\"surface\":[{\"type\":\"surface\",\"colorbar\":{\"outlinewidth\":0,\"ticks\":\"\"},\"colorscale\":[[0.0,\"#0d0887\"],[0.1111111111111111,\"#46039f\"],[0.2222222222222222,\"#7201a8\"],[0.3333333333333333,\"#9c179e\"],[0.4444444444444444,\"#bd3786\"],[0.5555555555555556,\"#d8576b\"],[0.6666666666666666,\"#ed7953\"],[0.7777777777777778,\"#fb9f3a\"],[0.8888888888888888,\"#fdca26\"],[1.0,\"#f0f921\"]]}],\"mesh3d\":[{\"type\":\"mesh3d\",\"colorbar\":{\"outlinewidth\":0,\"ticks\":\"\"}}],\"scatter\":[{\"fillpattern\":{\"fillmode\":\"overlay\",\"size\":10,\"solidity\":0.2},\"type\":\"scatter\"}],\"parcoords\":[{\"type\":\"parcoords\",\"line\":{\"colorbar\":{\"outlinewidth\":0,\"ticks\":\"\"}}}],\"scatterpolargl\":[{\"type\":\"scatterpolargl\",\"marker\":{\"colorbar\":{\"outlinewidth\":0,\"ticks\":\"\"}}}],\"bar\":[{\"error_x\":{\"color\":\"#2a3f5f\"},\"error_y\":{\"color\":\"#2a3f5f\"},\"marker\":{\"line\":{\"color\":\"#E5ECF6\",\"width\":0.5},\"pattern\":{\"fillmode\":\"overlay\",\"size\":10,\"solidity\":0.2}},\"type\":\"bar\"}],\"scattergeo\":[{\"type\":\"scattergeo\",\"marker\":{\"colorbar\":{\"outlinewidth\":0,\"ticks\":\"\"}}}],\"scatterpolar\":[{\"type\":\"scatterpolar\",\"marker\":{\"colorbar\":{\"outlinewidth\":0,\"ticks\":\"\"}}}],\"histogram\":[{\"marker\":{\"pattern\":{\"fillmode\":\"overlay\",\"size\":10,\"solidity\":0.2}},\"type\":\"histogram\"}],\"scattergl\":[{\"type\":\"scattergl\",\"marker\":{\"colorbar\":{\"outlinewidth\":0,\"ticks\":\"\"}}}],\"scatter3d\":[{\"type\":\"scatter3d\",\"line\":{\"colorbar\":{\"outlinewidth\":0,\"ticks\":\"\"}},\"marker\":{\"colorbar\":{\"outlinewidth\":0,\"ticks\":\"\"}}}],\"scattermapbox\":[{\"type\":\"scattermapbox\",\"marker\":{\"colorbar\":{\"outlinewidth\":0,\"ticks\":\"\"}}}],\"scatterternary\":[{\"type\":\"scatterternary\",\"marker\":{\"colorbar\":{\"outlinewidth\":0,\"ticks\":\"\"}}}],\"scattercarpet\":[{\"type\":\"scattercarpet\",\"marker\":{\"colorbar\":{\"outlinewidth\":0,\"ticks\":\"\"}}}],\"carpet\":[{\"aaxis\":{\"endlinecolor\":\"#2a3f5f\",\"gridcolor\":\"white\",\"linecolor\":\"white\",\"minorgridcolor\":\"white\",\"startlinecolor\":\"#2a3f5f\"},\"baxis\":{\"endlinecolor\":\"#2a3f5f\",\"gridcolor\":\"white\",\"linecolor\":\"white\",\"minorgridcolor\":\"white\",\"startlinecolor\":\"#2a3f5f\"},\"type\":\"carpet\"}],\"table\":[{\"cells\":{\"fill\":{\"color\":\"#EBF0F8\"},\"line\":{\"color\":\"white\"}},\"header\":{\"fill\":{\"color\":\"#C8D4E3\"},\"line\":{\"color\":\"white\"}},\"type\":\"table\"}],\"barpolar\":[{\"marker\":{\"line\":{\"color\":\"#E5ECF6\",\"width\":0.5},\"pattern\":{\"fillmode\":\"overlay\",\"size\":10,\"solidity\":0.2}},\"type\":\"barpolar\"}],\"pie\":[{\"automargin\":true,\"type\":\"pie\"}]},\"layout\":{\"autotypenumbers\":\"strict\",\"colorway\":[\"#636efa\",\"#EF553B\",\"#00cc96\",\"#ab63fa\",\"#FFA15A\",\"#19d3f3\",\"#FF6692\",\"#B6E880\",\"#FF97FF\",\"#FECB52\"],\"font\":{\"color\":\"#2a3f5f\"},\"hovermode\":\"closest\",\"hoverlabel\":{\"align\":\"left\"},\"paper_bgcolor\":\"white\",\"plot_bgcolor\":\"#E5ECF6\",\"polar\":{\"bgcolor\":\"#E5ECF6\",\"angularaxis\":{\"gridcolor\":\"white\",\"linecolor\":\"white\",\"ticks\":\"\"},\"radialaxis\":{\"gridcolor\":\"white\",\"linecolor\":\"white\",\"ticks\":\"\"}},\"ternary\":{\"bgcolor\":\"#E5ECF6\",\"aaxis\":{\"gridcolor\":\"white\",\"linecolor\":\"white\",\"ticks\":\"\"},\"baxis\":{\"gridcolor\":\"white\",\"linecolor\":\"white\",\"ticks\":\"\"},\"caxis\":{\"gridcolor\":\"white\",\"linecolor\":\"white\",\"ticks\":\"\"}},\"coloraxis\":{\"colorbar\":{\"outlinewidth\":0,\"ticks\":\"\"}},\"colorscale\":{\"sequential\":[[0.0,\"#0d0887\"],[0.1111111111111111,\"#46039f\"],[0.2222222222222222,\"#7201a8\"],[0.3333333333333333,\"#9c179e\"],[0.4444444444444444,\"#bd3786\"],[0.5555555555555556,\"#d8576b\"],[0.6666666666666666,\"#ed7953\"],[0.7777777777777778,\"#fb9f3a\"],[0.8888888888888888,\"#fdca26\"],[1.0,\"#f0f921\"]],\"sequentialminus\":[[0.0,\"#0d0887\"],[0.1111111111111111,\"#46039f\"],[0.2222222222222222,\"#7201a8\"],[0.3333333333333333,\"#9c179e\"],[0.4444444444444444,\"#bd3786\"],[0.5555555555555556,\"#d8576b\"],[0.6666666666666666,\"#ed7953\"],[0.7777777777777778,\"#fb9f3a\"],[0.8888888888888888,\"#fdca26\"],[1.0,\"#f0f921\"]],\"diverging\":[[0,\"#8e0152\"],[0.1,\"#c51b7d\"],[0.2,\"#de77ae\"],[0.3,\"#f1b6da\"],[0.4,\"#fde0ef\"],[0.5,\"#f7f7f7\"],[0.6,\"#e6f5d0\"],[0.7,\"#b8e186\"],[0.8,\"#7fbc41\"],[0.9,\"#4d9221\"],[1,\"#276419\"]]},\"xaxis\":{\"gridcolor\":\"white\",\"linecolor\":\"white\",\"ticks\":\"\",\"title\":{\"standoff\":15},\"zerolinecolor\":\"white\",\"automargin\":true,\"zerolinewidth\":2},\"yaxis\":{\"gridcolor\":\"white\",\"linecolor\":\"white\",\"ticks\":\"\",\"title\":{\"standoff\":15},\"zerolinecolor\":\"white\",\"automargin\":true,\"zerolinewidth\":2},\"scene\":{\"xaxis\":{\"backgroundcolor\":\"#E5ECF6\",\"gridcolor\":\"white\",\"linecolor\":\"white\",\"showbackground\":true,\"ticks\":\"\",\"zerolinecolor\":\"white\",\"gridwidth\":2},\"yaxis\":{\"backgroundcolor\":\"#E5ECF6\",\"gridcolor\":\"white\",\"linecolor\":\"white\",\"showbackground\":true,\"ticks\":\"\",\"zerolinecolor\":\"white\",\"gridwidth\":2},\"zaxis\":{\"backgroundcolor\":\"#E5ECF6\",\"gridcolor\":\"white\",\"linecolor\":\"white\",\"showbackground\":true,\"ticks\":\"\",\"zerolinecolor\":\"white\",\"gridwidth\":2}},\"shapedefaults\":{\"line\":{\"color\":\"#2a3f5f\"}},\"annotationdefaults\":{\"arrowcolor\":\"#2a3f5f\",\"arrowhead\":0,\"arrowwidth\":1},\"geo\":{\"bgcolor\":\"white\",\"landcolor\":\"#E5ECF6\",\"subunitcolor\":\"white\",\"showland\":true,\"showlakes\":true,\"lakecolor\":\"white\"},\"title\":{\"x\":0.05},\"mapbox\":{\"style\":\"light\"}}},\"scene\":{\"domain\":{\"x\":[0.0,1.0],\"y\":[0.0,1.0]},\"xaxis\":{\"title\":{\"text\":\"principal component 1\"}},\"yaxis\":{\"title\":{\"text\":\"principal component 2\"}},\"zaxis\":{\"title\":{\"text\":\"principal component 3\"}}},\"legend\":{\"title\":{\"text\":\"Sous type\"},\"tracegroupgap\":0},\"margin\":{\"t\":60}},                        {\"responsive\": true}                    ).then(function(){\n",
       "                            \n",
       "var gd = document.getElementById('944ed4cb-71ac-4478-8c54-761974f03b90');\n",
       "var x = new MutationObserver(function (mutations, observer) {{\n",
       "        var display = window.getComputedStyle(gd).display;\n",
       "        if (!display || display === 'none') {{\n",
       "            console.log([gd, 'removed!']);\n",
       "            Plotly.purge(gd);\n",
       "            observer.disconnect();\n",
       "        }}\n",
       "}});\n",
       "\n",
       "// Listen for the removal of the full notebook cells\n",
       "var notebookContainer = gd.closest('#notebook-container');\n",
       "if (notebookContainer) {{\n",
       "    x.observe(notebookContainer, {childList: true});\n",
       "}}\n",
       "\n",
       "// Listen for the clearing of the current output cell\n",
       "var outputEl = gd.closest('.output');\n",
       "if (outputEl) {{\n",
       "    x.observe(outputEl, {childList: true});\n",
       "}}\n",
       "\n",
       "                        })                };                });            </script>        </div>"
      ]
     },
     "metadata": {},
     "output_type": "display_data"
    }
   ],
   "source": [
    "pca_3Ddf = PCA(n_components=3)\n",
    "principalComponents_3Ddf = pca_3Ddf.fit_transform(x)\n",
    "principal_3DDf = pd.DataFrame(data = principalComponents_3Ddf\n",
    "             , columns = ['principal component 1', 'principal component 2', 'principal component 3'])\n",
    "print('Explained variation per principal component: {}'.format(pca_3Ddf.explained_variance_ratio_))\n",
    "\n",
    "fig_3D = px.scatter_3d(principal_3DDf, x= \"principal component 1\", y=\"principal component 2\", z=\"principal component 3\", color=Y,labels={'color':'Sous type'})\n",
    "fig_3D.show()"
   ]
  },
  {
   "cell_type": "code",
   "execution_count": 51,
   "id": "b74b1df2",
   "metadata": {},
   "outputs": [],
   "source": [
    "from umap import UMAP"
   ]
  },
  {
   "cell_type": "code",
   "execution_count": 60,
   "id": "8b1acf82",
   "metadata": {},
   "outputs": [
    {
     "data": {
      "application/vnd.plotly.v1+json": {
       "config": {
        "plotlyServerURL": "https://plot.ly"
       },
       "data": [
        {
         "hovertemplate": "Sous Type=Normal<br>0=%{x}<br>1=%{y}<extra></extra>",
         "legendgroup": "Normal",
         "marker": {
          "color": "#636efa",
          "symbol": "circle"
         },
         "mode": "markers",
         "name": "Normal",
         "orientation": "v",
         "showlegend": true,
         "type": "scatter",
         "x": [
          9.132588386535645,
          9.31531047821045,
          9.190433502197266,
          9.117015838623047,
          9.205817222595215,
          9.259187698364258,
          9.108731269836426,
          9.211908340454102
         ],
         "xaxis": "x",
         "y": [
          7.028652191162109,
          6.964838027954102,
          7.108184337615967,
          6.833077430725098,
          7.116425514221191,
          6.938697338104248,
          7.031613349914551,
          7.062572956085205
         ],
         "yaxis": "y"
        },
        {
         "hovertemplate": "Sous Type=Basal<br>0=%{x}<br>1=%{y}<extra></extra>",
         "legendgroup": "Basal",
         "marker": {
          "color": "#EF553B",
          "symbol": "circle"
         },
         "mode": "markers",
         "name": "Basal",
         "orientation": "v",
         "showlegend": true,
         "type": "scatter",
         "x": [
          4.889023303985596,
          5.320261001586914,
          5.034408092498779,
          5.091703414916992,
          4.869198799133301,
          5.150214672088623,
          5.023375034332275,
          5.107313632965088,
          5.4818010330200195,
          5.230116844177246,
          4.8747148513793945,
          5.073923587799072,
          4.868584632873535,
          4.785346984863281,
          5.094655990600586,
          5.257615566253662,
          4.979865074157715,
          5.264467716217041,
          4.890955924987793,
          5.018082141876221,
          4.915126800537109,
          4.990167617797852
         ],
         "xaxis": "x",
         "y": [
          9.693446159362793,
          9.93646240234375,
          9.817877769470215,
          9.493217468261719,
          9.75502872467041,
          9.838885307312012,
          9.714736938476562,
          9.773463249206543,
          9.80384635925293,
          9.600979804992676,
          9.715628623962402,
          9.548483848571777,
          9.856045722961426,
          9.669898986816406,
          9.809554100036621,
          9.768245697021484,
          9.665168762207031,
          9.769287109375,
          9.757457733154297,
          9.656776428222656,
          9.6668119430542,
          9.53459644317627
         ],
         "yaxis": "y"
        },
        {
         "hovertemplate": "Sous Type=Her2<br>0=%{x}<br>1=%{y}<extra></extra>",
         "legendgroup": "Her2",
         "marker": {
          "color": "#00cc96",
          "symbol": "circle"
         },
         "mode": "markers",
         "name": "Her2",
         "orientation": "v",
         "showlegend": true,
         "type": "scatter",
         "x": [
          7.7559919357299805,
          8.403064727783203,
          7.627817153930664,
          7.543002605438232,
          7.5849995613098145,
          7.708059310913086,
          7.768346309661865,
          8.485858917236328,
          8.174905776977539,
          7.746146202087402,
          8.271276473999023,
          8.490799903869629,
          7.4514946937561035,
          8.250129699707031,
          7.4995222091674805,
          8.07126235961914,
          8.627854347229004,
          8.284878730773926,
          7.568371772766113,
          7.6159257888793945,
          7.731419086456299,
          7.604923248291016,
          7.775559902191162,
          8.087153434753418,
          7.63331413269043
         ],
         "xaxis": "x",
         "y": [
          4.989332675933838,
          4.486173152923584,
          4.827542304992676,
          4.802489280700684,
          4.734403610229492,
          4.947536468505859,
          4.78744649887085,
          3.946816921234131,
          4.580208778381348,
          4.692898750305176,
          4.625275611877441,
          4.268754959106445,
          4.952469348907471,
          4.347069263458252,
          4.896727561950684,
          4.500763893127441,
          4.281293869018555,
          4.291846752166748,
          4.963943958282471,
          4.91661262512207,
          4.758332252502441,
          4.742491245269775,
          4.688525676727295,
          4.613901615142822,
          4.835626602172852
         ],
         "yaxis": "y"
        },
        {
         "hovertemplate": "Sous Type=LumA<br>0=%{x}<br>1=%{y}<extra></extra>",
         "legendgroup": "LumA",
         "marker": {
          "color": "#ab63fa",
          "symbol": "circle"
         },
         "mode": "markers",
         "name": "LumA",
         "orientation": "v",
         "showlegend": true,
         "type": "scatter",
         "x": [
          8.665464401245117,
          8.705192565917969,
          8.895934104919434,
          8.88138484954834,
          8.740822792053223,
          8.810372352600098,
          8.702162742614746,
          8.734861373901367,
          8.901110649108887
         ],
         "xaxis": "x",
         "y": [
          3.8877880573272705,
          3.889624834060669,
          3.932943344116211,
          3.7795047760009766,
          4.055772304534912,
          3.7159156799316406,
          3.66870379447937,
          3.8477861881256104,
          3.770589828491211
         ],
         "yaxis": "y"
        },
        {
         "hovertemplate": "Sous Type=LumB<br>0=%{x}<br>1=%{y}<extra></extra>",
         "legendgroup": "LumB",
         "marker": {
          "color": "#FFA15A",
          "symbol": "circle"
         },
         "mode": "markers",
         "name": "LumB",
         "orientation": "v",
         "showlegend": true,
         "type": "scatter",
         "x": [
          8.411290168762207,
          8.272016525268555,
          8.387208938598633,
          8.463386535644531,
          8.434326171875,
          8.674002647399902,
          8.262067794799805,
          8.26378345489502
         ],
         "xaxis": "x",
         "y": [
          4.544139862060547,
          4.716681003570557,
          4.661797046661377,
          4.4897074699401855,
          4.51680326461792,
          4.2393269538879395,
          4.689995288848877,
          4.453676700592041
         ],
         "yaxis": "y"
        }
       ],
       "layout": {
        "legend": {
         "title": {
          "text": "Sous Type"
         },
         "tracegroupgap": 0
        },
        "margin": {
         "t": 60
        },
        "template": {
         "data": {
          "bar": [
           {
            "error_x": {
             "color": "#2a3f5f"
            },
            "error_y": {
             "color": "#2a3f5f"
            },
            "marker": {
             "line": {
              "color": "#E5ECF6",
              "width": 0.5
             },
             "pattern": {
              "fillmode": "overlay",
              "size": 10,
              "solidity": 0.2
             }
            },
            "type": "bar"
           }
          ],
          "barpolar": [
           {
            "marker": {
             "line": {
              "color": "#E5ECF6",
              "width": 0.5
             },
             "pattern": {
              "fillmode": "overlay",
              "size": 10,
              "solidity": 0.2
             }
            },
            "type": "barpolar"
           }
          ],
          "carpet": [
           {
            "aaxis": {
             "endlinecolor": "#2a3f5f",
             "gridcolor": "white",
             "linecolor": "white",
             "minorgridcolor": "white",
             "startlinecolor": "#2a3f5f"
            },
            "baxis": {
             "endlinecolor": "#2a3f5f",
             "gridcolor": "white",
             "linecolor": "white",
             "minorgridcolor": "white",
             "startlinecolor": "#2a3f5f"
            },
            "type": "carpet"
           }
          ],
          "choropleth": [
           {
            "colorbar": {
             "outlinewidth": 0,
             "ticks": ""
            },
            "type": "choropleth"
           }
          ],
          "contour": [
           {
            "colorbar": {
             "outlinewidth": 0,
             "ticks": ""
            },
            "colorscale": [
             [
              0,
              "#0d0887"
             ],
             [
              0.1111111111111111,
              "#46039f"
             ],
             [
              0.2222222222222222,
              "#7201a8"
             ],
             [
              0.3333333333333333,
              "#9c179e"
             ],
             [
              0.4444444444444444,
              "#bd3786"
             ],
             [
              0.5555555555555556,
              "#d8576b"
             ],
             [
              0.6666666666666666,
              "#ed7953"
             ],
             [
              0.7777777777777778,
              "#fb9f3a"
             ],
             [
              0.8888888888888888,
              "#fdca26"
             ],
             [
              1,
              "#f0f921"
             ]
            ],
            "type": "contour"
           }
          ],
          "contourcarpet": [
           {
            "colorbar": {
             "outlinewidth": 0,
             "ticks": ""
            },
            "type": "contourcarpet"
           }
          ],
          "heatmap": [
           {
            "colorbar": {
             "outlinewidth": 0,
             "ticks": ""
            },
            "colorscale": [
             [
              0,
              "#0d0887"
             ],
             [
              0.1111111111111111,
              "#46039f"
             ],
             [
              0.2222222222222222,
              "#7201a8"
             ],
             [
              0.3333333333333333,
              "#9c179e"
             ],
             [
              0.4444444444444444,
              "#bd3786"
             ],
             [
              0.5555555555555556,
              "#d8576b"
             ],
             [
              0.6666666666666666,
              "#ed7953"
             ],
             [
              0.7777777777777778,
              "#fb9f3a"
             ],
             [
              0.8888888888888888,
              "#fdca26"
             ],
             [
              1,
              "#f0f921"
             ]
            ],
            "type": "heatmap"
           }
          ],
          "heatmapgl": [
           {
            "colorbar": {
             "outlinewidth": 0,
             "ticks": ""
            },
            "colorscale": [
             [
              0,
              "#0d0887"
             ],
             [
              0.1111111111111111,
              "#46039f"
             ],
             [
              0.2222222222222222,
              "#7201a8"
             ],
             [
              0.3333333333333333,
              "#9c179e"
             ],
             [
              0.4444444444444444,
              "#bd3786"
             ],
             [
              0.5555555555555556,
              "#d8576b"
             ],
             [
              0.6666666666666666,
              "#ed7953"
             ],
             [
              0.7777777777777778,
              "#fb9f3a"
             ],
             [
              0.8888888888888888,
              "#fdca26"
             ],
             [
              1,
              "#f0f921"
             ]
            ],
            "type": "heatmapgl"
           }
          ],
          "histogram": [
           {
            "marker": {
             "pattern": {
              "fillmode": "overlay",
              "size": 10,
              "solidity": 0.2
             }
            },
            "type": "histogram"
           }
          ],
          "histogram2d": [
           {
            "colorbar": {
             "outlinewidth": 0,
             "ticks": ""
            },
            "colorscale": [
             [
              0,
              "#0d0887"
             ],
             [
              0.1111111111111111,
              "#46039f"
             ],
             [
              0.2222222222222222,
              "#7201a8"
             ],
             [
              0.3333333333333333,
              "#9c179e"
             ],
             [
              0.4444444444444444,
              "#bd3786"
             ],
             [
              0.5555555555555556,
              "#d8576b"
             ],
             [
              0.6666666666666666,
              "#ed7953"
             ],
             [
              0.7777777777777778,
              "#fb9f3a"
             ],
             [
              0.8888888888888888,
              "#fdca26"
             ],
             [
              1,
              "#f0f921"
             ]
            ],
            "type": "histogram2d"
           }
          ],
          "histogram2dcontour": [
           {
            "colorbar": {
             "outlinewidth": 0,
             "ticks": ""
            },
            "colorscale": [
             [
              0,
              "#0d0887"
             ],
             [
              0.1111111111111111,
              "#46039f"
             ],
             [
              0.2222222222222222,
              "#7201a8"
             ],
             [
              0.3333333333333333,
              "#9c179e"
             ],
             [
              0.4444444444444444,
              "#bd3786"
             ],
             [
              0.5555555555555556,
              "#d8576b"
             ],
             [
              0.6666666666666666,
              "#ed7953"
             ],
             [
              0.7777777777777778,
              "#fb9f3a"
             ],
             [
              0.8888888888888888,
              "#fdca26"
             ],
             [
              1,
              "#f0f921"
             ]
            ],
            "type": "histogram2dcontour"
           }
          ],
          "mesh3d": [
           {
            "colorbar": {
             "outlinewidth": 0,
             "ticks": ""
            },
            "type": "mesh3d"
           }
          ],
          "parcoords": [
           {
            "line": {
             "colorbar": {
              "outlinewidth": 0,
              "ticks": ""
             }
            },
            "type": "parcoords"
           }
          ],
          "pie": [
           {
            "automargin": true,
            "type": "pie"
           }
          ],
          "scatter": [
           {
            "fillpattern": {
             "fillmode": "overlay",
             "size": 10,
             "solidity": 0.2
            },
            "type": "scatter"
           }
          ],
          "scatter3d": [
           {
            "line": {
             "colorbar": {
              "outlinewidth": 0,
              "ticks": ""
             }
            },
            "marker": {
             "colorbar": {
              "outlinewidth": 0,
              "ticks": ""
             }
            },
            "type": "scatter3d"
           }
          ],
          "scattercarpet": [
           {
            "marker": {
             "colorbar": {
              "outlinewidth": 0,
              "ticks": ""
             }
            },
            "type": "scattercarpet"
           }
          ],
          "scattergeo": [
           {
            "marker": {
             "colorbar": {
              "outlinewidth": 0,
              "ticks": ""
             }
            },
            "type": "scattergeo"
           }
          ],
          "scattergl": [
           {
            "marker": {
             "colorbar": {
              "outlinewidth": 0,
              "ticks": ""
             }
            },
            "type": "scattergl"
           }
          ],
          "scattermapbox": [
           {
            "marker": {
             "colorbar": {
              "outlinewidth": 0,
              "ticks": ""
             }
            },
            "type": "scattermapbox"
           }
          ],
          "scatterpolar": [
           {
            "marker": {
             "colorbar": {
              "outlinewidth": 0,
              "ticks": ""
             }
            },
            "type": "scatterpolar"
           }
          ],
          "scatterpolargl": [
           {
            "marker": {
             "colorbar": {
              "outlinewidth": 0,
              "ticks": ""
             }
            },
            "type": "scatterpolargl"
           }
          ],
          "scatterternary": [
           {
            "marker": {
             "colorbar": {
              "outlinewidth": 0,
              "ticks": ""
             }
            },
            "type": "scatterternary"
           }
          ],
          "surface": [
           {
            "colorbar": {
             "outlinewidth": 0,
             "ticks": ""
            },
            "colorscale": [
             [
              0,
              "#0d0887"
             ],
             [
              0.1111111111111111,
              "#46039f"
             ],
             [
              0.2222222222222222,
              "#7201a8"
             ],
             [
              0.3333333333333333,
              "#9c179e"
             ],
             [
              0.4444444444444444,
              "#bd3786"
             ],
             [
              0.5555555555555556,
              "#d8576b"
             ],
             [
              0.6666666666666666,
              "#ed7953"
             ],
             [
              0.7777777777777778,
              "#fb9f3a"
             ],
             [
              0.8888888888888888,
              "#fdca26"
             ],
             [
              1,
              "#f0f921"
             ]
            ],
            "type": "surface"
           }
          ],
          "table": [
           {
            "cells": {
             "fill": {
              "color": "#EBF0F8"
             },
             "line": {
              "color": "white"
             }
            },
            "header": {
             "fill": {
              "color": "#C8D4E3"
             },
             "line": {
              "color": "white"
             }
            },
            "type": "table"
           }
          ]
         },
         "layout": {
          "annotationdefaults": {
           "arrowcolor": "#2a3f5f",
           "arrowhead": 0,
           "arrowwidth": 1
          },
          "autotypenumbers": "strict",
          "coloraxis": {
           "colorbar": {
            "outlinewidth": 0,
            "ticks": ""
           }
          },
          "colorscale": {
           "diverging": [
            [
             0,
             "#8e0152"
            ],
            [
             0.1,
             "#c51b7d"
            ],
            [
             0.2,
             "#de77ae"
            ],
            [
             0.3,
             "#f1b6da"
            ],
            [
             0.4,
             "#fde0ef"
            ],
            [
             0.5,
             "#f7f7f7"
            ],
            [
             0.6,
             "#e6f5d0"
            ],
            [
             0.7,
             "#b8e186"
            ],
            [
             0.8,
             "#7fbc41"
            ],
            [
             0.9,
             "#4d9221"
            ],
            [
             1,
             "#276419"
            ]
           ],
           "sequential": [
            [
             0,
             "#0d0887"
            ],
            [
             0.1111111111111111,
             "#46039f"
            ],
            [
             0.2222222222222222,
             "#7201a8"
            ],
            [
             0.3333333333333333,
             "#9c179e"
            ],
            [
             0.4444444444444444,
             "#bd3786"
            ],
            [
             0.5555555555555556,
             "#d8576b"
            ],
            [
             0.6666666666666666,
             "#ed7953"
            ],
            [
             0.7777777777777778,
             "#fb9f3a"
            ],
            [
             0.8888888888888888,
             "#fdca26"
            ],
            [
             1,
             "#f0f921"
            ]
           ],
           "sequentialminus": [
            [
             0,
             "#0d0887"
            ],
            [
             0.1111111111111111,
             "#46039f"
            ],
            [
             0.2222222222222222,
             "#7201a8"
            ],
            [
             0.3333333333333333,
             "#9c179e"
            ],
            [
             0.4444444444444444,
             "#bd3786"
            ],
            [
             0.5555555555555556,
             "#d8576b"
            ],
            [
             0.6666666666666666,
             "#ed7953"
            ],
            [
             0.7777777777777778,
             "#fb9f3a"
            ],
            [
             0.8888888888888888,
             "#fdca26"
            ],
            [
             1,
             "#f0f921"
            ]
           ]
          },
          "colorway": [
           "#636efa",
           "#EF553B",
           "#00cc96",
           "#ab63fa",
           "#FFA15A",
           "#19d3f3",
           "#FF6692",
           "#B6E880",
           "#FF97FF",
           "#FECB52"
          ],
          "font": {
           "color": "#2a3f5f"
          },
          "geo": {
           "bgcolor": "white",
           "lakecolor": "white",
           "landcolor": "#E5ECF6",
           "showlakes": true,
           "showland": true,
           "subunitcolor": "white"
          },
          "hoverlabel": {
           "align": "left"
          },
          "hovermode": "closest",
          "mapbox": {
           "style": "light"
          },
          "paper_bgcolor": "white",
          "plot_bgcolor": "#E5ECF6",
          "polar": {
           "angularaxis": {
            "gridcolor": "white",
            "linecolor": "white",
            "ticks": ""
           },
           "bgcolor": "#E5ECF6",
           "radialaxis": {
            "gridcolor": "white",
            "linecolor": "white",
            "ticks": ""
           }
          },
          "scene": {
           "xaxis": {
            "backgroundcolor": "#E5ECF6",
            "gridcolor": "white",
            "gridwidth": 2,
            "linecolor": "white",
            "showbackground": true,
            "ticks": "",
            "zerolinecolor": "white"
           },
           "yaxis": {
            "backgroundcolor": "#E5ECF6",
            "gridcolor": "white",
            "gridwidth": 2,
            "linecolor": "white",
            "showbackground": true,
            "ticks": "",
            "zerolinecolor": "white"
           },
           "zaxis": {
            "backgroundcolor": "#E5ECF6",
            "gridcolor": "white",
            "gridwidth": 2,
            "linecolor": "white",
            "showbackground": true,
            "ticks": "",
            "zerolinecolor": "white"
           }
          },
          "shapedefaults": {
           "line": {
            "color": "#2a3f5f"
           }
          },
          "ternary": {
           "aaxis": {
            "gridcolor": "white",
            "linecolor": "white",
            "ticks": ""
           },
           "baxis": {
            "gridcolor": "white",
            "linecolor": "white",
            "ticks": ""
           },
           "bgcolor": "#E5ECF6",
           "caxis": {
            "gridcolor": "white",
            "linecolor": "white",
            "ticks": ""
           }
          },
          "title": {
           "x": 0.05
          },
          "xaxis": {
           "automargin": true,
           "gridcolor": "white",
           "linecolor": "white",
           "ticks": "",
           "title": {
            "standoff": 15
           },
           "zerolinecolor": "white",
           "zerolinewidth": 2
          },
          "yaxis": {
           "automargin": true,
           "gridcolor": "white",
           "linecolor": "white",
           "ticks": "",
           "title": {
            "standoff": 15
           },
           "zerolinecolor": "white",
           "zerolinewidth": 2
          }
         }
        },
        "xaxis": {
         "anchor": "y",
         "domain": [
          0,
          1
         ],
         "title": {
          "text": "0"
         }
        },
        "yaxis": {
         "anchor": "x",
         "domain": [
          0,
          1
         ],
         "title": {
          "text": "1"
         }
        }
       }
      },
      "text/html": [
       "<div>                            <div id=\"788023e9-9e8a-4c89-8619-06ba0f21ba9d\" class=\"plotly-graph-div\" style=\"height:525px; width:100%;\"></div>            <script type=\"text/javascript\">                require([\"plotly\"], function(Plotly) {                    window.PLOTLYENV=window.PLOTLYENV || {};                                    if (document.getElementById(\"788023e9-9e8a-4c89-8619-06ba0f21ba9d\")) {                    Plotly.newPlot(                        \"788023e9-9e8a-4c89-8619-06ba0f21ba9d\",                        [{\"hovertemplate\":\"Sous Type=Normal<br>0=%{x}<br>1=%{y}<extra></extra>\",\"legendgroup\":\"Normal\",\"marker\":{\"color\":\"#636efa\",\"symbol\":\"circle\"},\"mode\":\"markers\",\"name\":\"Normal\",\"orientation\":\"v\",\"showlegend\":true,\"x\":[9.132588386535645,9.31531047821045,9.190433502197266,9.117015838623047,9.205817222595215,9.259187698364258,9.108731269836426,9.211908340454102],\"xaxis\":\"x\",\"y\":[7.028652191162109,6.964838027954102,7.108184337615967,6.833077430725098,7.116425514221191,6.938697338104248,7.031613349914551,7.062572956085205],\"yaxis\":\"y\",\"type\":\"scatter\"},{\"hovertemplate\":\"Sous Type=Basal<br>0=%{x}<br>1=%{y}<extra></extra>\",\"legendgroup\":\"Basal\",\"marker\":{\"color\":\"#EF553B\",\"symbol\":\"circle\"},\"mode\":\"markers\",\"name\":\"Basal\",\"orientation\":\"v\",\"showlegend\":true,\"x\":[4.889023303985596,5.320261001586914,5.034408092498779,5.091703414916992,4.869198799133301,5.150214672088623,5.023375034332275,5.107313632965088,5.4818010330200195,5.230116844177246,4.8747148513793945,5.073923587799072,4.868584632873535,4.785346984863281,5.094655990600586,5.257615566253662,4.979865074157715,5.264467716217041,4.890955924987793,5.018082141876221,4.915126800537109,4.990167617797852],\"xaxis\":\"x\",\"y\":[9.693446159362793,9.93646240234375,9.817877769470215,9.493217468261719,9.75502872467041,9.838885307312012,9.714736938476562,9.773463249206543,9.80384635925293,9.600979804992676,9.715628623962402,9.548483848571777,9.856045722961426,9.669898986816406,9.809554100036621,9.768245697021484,9.665168762207031,9.769287109375,9.757457733154297,9.656776428222656,9.6668119430542,9.53459644317627],\"yaxis\":\"y\",\"type\":\"scatter\"},{\"hovertemplate\":\"Sous Type=Her2<br>0=%{x}<br>1=%{y}<extra></extra>\",\"legendgroup\":\"Her2\",\"marker\":{\"color\":\"#00cc96\",\"symbol\":\"circle\"},\"mode\":\"markers\",\"name\":\"Her2\",\"orientation\":\"v\",\"showlegend\":true,\"x\":[7.7559919357299805,8.403064727783203,7.627817153930664,7.543002605438232,7.5849995613098145,7.708059310913086,7.768346309661865,8.485858917236328,8.174905776977539,7.746146202087402,8.271276473999023,8.490799903869629,7.4514946937561035,8.250129699707031,7.4995222091674805,8.07126235961914,8.627854347229004,8.284878730773926,7.568371772766113,7.6159257888793945,7.731419086456299,7.604923248291016,7.775559902191162,8.087153434753418,7.63331413269043],\"xaxis\":\"x\",\"y\":[4.989332675933838,4.486173152923584,4.827542304992676,4.802489280700684,4.734403610229492,4.947536468505859,4.78744649887085,3.946816921234131,4.580208778381348,4.692898750305176,4.625275611877441,4.268754959106445,4.952469348907471,4.347069263458252,4.896727561950684,4.500763893127441,4.281293869018555,4.291846752166748,4.963943958282471,4.91661262512207,4.758332252502441,4.742491245269775,4.688525676727295,4.613901615142822,4.835626602172852],\"yaxis\":\"y\",\"type\":\"scatter\"},{\"hovertemplate\":\"Sous Type=LumA<br>0=%{x}<br>1=%{y}<extra></extra>\",\"legendgroup\":\"LumA\",\"marker\":{\"color\":\"#ab63fa\",\"symbol\":\"circle\"},\"mode\":\"markers\",\"name\":\"LumA\",\"orientation\":\"v\",\"showlegend\":true,\"x\":[8.665464401245117,8.705192565917969,8.895934104919434,8.88138484954834,8.740822792053223,8.810372352600098,8.702162742614746,8.734861373901367,8.901110649108887],\"xaxis\":\"x\",\"y\":[3.8877880573272705,3.889624834060669,3.932943344116211,3.7795047760009766,4.055772304534912,3.7159156799316406,3.66870379447937,3.8477861881256104,3.770589828491211],\"yaxis\":\"y\",\"type\":\"scatter\"},{\"hovertemplate\":\"Sous Type=LumB<br>0=%{x}<br>1=%{y}<extra></extra>\",\"legendgroup\":\"LumB\",\"marker\":{\"color\":\"#FFA15A\",\"symbol\":\"circle\"},\"mode\":\"markers\",\"name\":\"LumB\",\"orientation\":\"v\",\"showlegend\":true,\"x\":[8.411290168762207,8.272016525268555,8.387208938598633,8.463386535644531,8.434326171875,8.674002647399902,8.262067794799805,8.26378345489502],\"xaxis\":\"x\",\"y\":[4.544139862060547,4.716681003570557,4.661797046661377,4.4897074699401855,4.51680326461792,4.2393269538879395,4.689995288848877,4.453676700592041],\"yaxis\":\"y\",\"type\":\"scatter\"}],                        {\"template\":{\"data\":{\"histogram2dcontour\":[{\"type\":\"histogram2dcontour\",\"colorbar\":{\"outlinewidth\":0,\"ticks\":\"\"},\"colorscale\":[[0.0,\"#0d0887\"],[0.1111111111111111,\"#46039f\"],[0.2222222222222222,\"#7201a8\"],[0.3333333333333333,\"#9c179e\"],[0.4444444444444444,\"#bd3786\"],[0.5555555555555556,\"#d8576b\"],[0.6666666666666666,\"#ed7953\"],[0.7777777777777778,\"#fb9f3a\"],[0.8888888888888888,\"#fdca26\"],[1.0,\"#f0f921\"]]}],\"choropleth\":[{\"type\":\"choropleth\",\"colorbar\":{\"outlinewidth\":0,\"ticks\":\"\"}}],\"histogram2d\":[{\"type\":\"histogram2d\",\"colorbar\":{\"outlinewidth\":0,\"ticks\":\"\"},\"colorscale\":[[0.0,\"#0d0887\"],[0.1111111111111111,\"#46039f\"],[0.2222222222222222,\"#7201a8\"],[0.3333333333333333,\"#9c179e\"],[0.4444444444444444,\"#bd3786\"],[0.5555555555555556,\"#d8576b\"],[0.6666666666666666,\"#ed7953\"],[0.7777777777777778,\"#fb9f3a\"],[0.8888888888888888,\"#fdca26\"],[1.0,\"#f0f921\"]]}],\"heatmap\":[{\"type\":\"heatmap\",\"colorbar\":{\"outlinewidth\":0,\"ticks\":\"\"},\"colorscale\":[[0.0,\"#0d0887\"],[0.1111111111111111,\"#46039f\"],[0.2222222222222222,\"#7201a8\"],[0.3333333333333333,\"#9c179e\"],[0.4444444444444444,\"#bd3786\"],[0.5555555555555556,\"#d8576b\"],[0.6666666666666666,\"#ed7953\"],[0.7777777777777778,\"#fb9f3a\"],[0.8888888888888888,\"#fdca26\"],[1.0,\"#f0f921\"]]}],\"heatmapgl\":[{\"type\":\"heatmapgl\",\"colorbar\":{\"outlinewidth\":0,\"ticks\":\"\"},\"colorscale\":[[0.0,\"#0d0887\"],[0.1111111111111111,\"#46039f\"],[0.2222222222222222,\"#7201a8\"],[0.3333333333333333,\"#9c179e\"],[0.4444444444444444,\"#bd3786\"],[0.5555555555555556,\"#d8576b\"],[0.6666666666666666,\"#ed7953\"],[0.7777777777777778,\"#fb9f3a\"],[0.8888888888888888,\"#fdca26\"],[1.0,\"#f0f921\"]]}],\"contourcarpet\":[{\"type\":\"contourcarpet\",\"colorbar\":{\"outlinewidth\":0,\"ticks\":\"\"}}],\"contour\":[{\"type\":\"contour\",\"colorbar\":{\"outlinewidth\":0,\"ticks\":\"\"},\"colorscale\":[[0.0,\"#0d0887\"],[0.1111111111111111,\"#46039f\"],[0.2222222222222222,\"#7201a8\"],[0.3333333333333333,\"#9c179e\"],[0.4444444444444444,\"#bd3786\"],[0.5555555555555556,\"#d8576b\"],[0.6666666666666666,\"#ed7953\"],[0.7777777777777778,\"#fb9f3a\"],[0.8888888888888888,\"#fdca26\"],[1.0,\"#f0f921\"]]}],\"surface\":[{\"type\":\"surface\",\"colorbar\":{\"outlinewidth\":0,\"ticks\":\"\"},\"colorscale\":[[0.0,\"#0d0887\"],[0.1111111111111111,\"#46039f\"],[0.2222222222222222,\"#7201a8\"],[0.3333333333333333,\"#9c179e\"],[0.4444444444444444,\"#bd3786\"],[0.5555555555555556,\"#d8576b\"],[0.6666666666666666,\"#ed7953\"],[0.7777777777777778,\"#fb9f3a\"],[0.8888888888888888,\"#fdca26\"],[1.0,\"#f0f921\"]]}],\"mesh3d\":[{\"type\":\"mesh3d\",\"colorbar\":{\"outlinewidth\":0,\"ticks\":\"\"}}],\"scatter\":[{\"fillpattern\":{\"fillmode\":\"overlay\",\"size\":10,\"solidity\":0.2},\"type\":\"scatter\"}],\"parcoords\":[{\"type\":\"parcoords\",\"line\":{\"colorbar\":{\"outlinewidth\":0,\"ticks\":\"\"}}}],\"scatterpolargl\":[{\"type\":\"scatterpolargl\",\"marker\":{\"colorbar\":{\"outlinewidth\":0,\"ticks\":\"\"}}}],\"bar\":[{\"error_x\":{\"color\":\"#2a3f5f\"},\"error_y\":{\"color\":\"#2a3f5f\"},\"marker\":{\"line\":{\"color\":\"#E5ECF6\",\"width\":0.5},\"pattern\":{\"fillmode\":\"overlay\",\"size\":10,\"solidity\":0.2}},\"type\":\"bar\"}],\"scattergeo\":[{\"type\":\"scattergeo\",\"marker\":{\"colorbar\":{\"outlinewidth\":0,\"ticks\":\"\"}}}],\"scatterpolar\":[{\"type\":\"scatterpolar\",\"marker\":{\"colorbar\":{\"outlinewidth\":0,\"ticks\":\"\"}}}],\"histogram\":[{\"marker\":{\"pattern\":{\"fillmode\":\"overlay\",\"size\":10,\"solidity\":0.2}},\"type\":\"histogram\"}],\"scattergl\":[{\"type\":\"scattergl\",\"marker\":{\"colorbar\":{\"outlinewidth\":0,\"ticks\":\"\"}}}],\"scatter3d\":[{\"type\":\"scatter3d\",\"line\":{\"colorbar\":{\"outlinewidth\":0,\"ticks\":\"\"}},\"marker\":{\"colorbar\":{\"outlinewidth\":0,\"ticks\":\"\"}}}],\"scattermapbox\":[{\"type\":\"scattermapbox\",\"marker\":{\"colorbar\":{\"outlinewidth\":0,\"ticks\":\"\"}}}],\"scatterternary\":[{\"type\":\"scatterternary\",\"marker\":{\"colorbar\":{\"outlinewidth\":0,\"ticks\":\"\"}}}],\"scattercarpet\":[{\"type\":\"scattercarpet\",\"marker\":{\"colorbar\":{\"outlinewidth\":0,\"ticks\":\"\"}}}],\"carpet\":[{\"aaxis\":{\"endlinecolor\":\"#2a3f5f\",\"gridcolor\":\"white\",\"linecolor\":\"white\",\"minorgridcolor\":\"white\",\"startlinecolor\":\"#2a3f5f\"},\"baxis\":{\"endlinecolor\":\"#2a3f5f\",\"gridcolor\":\"white\",\"linecolor\":\"white\",\"minorgridcolor\":\"white\",\"startlinecolor\":\"#2a3f5f\"},\"type\":\"carpet\"}],\"table\":[{\"cells\":{\"fill\":{\"color\":\"#EBF0F8\"},\"line\":{\"color\":\"white\"}},\"header\":{\"fill\":{\"color\":\"#C8D4E3\"},\"line\":{\"color\":\"white\"}},\"type\":\"table\"}],\"barpolar\":[{\"marker\":{\"line\":{\"color\":\"#E5ECF6\",\"width\":0.5},\"pattern\":{\"fillmode\":\"overlay\",\"size\":10,\"solidity\":0.2}},\"type\":\"barpolar\"}],\"pie\":[{\"automargin\":true,\"type\":\"pie\"}]},\"layout\":{\"autotypenumbers\":\"strict\",\"colorway\":[\"#636efa\",\"#EF553B\",\"#00cc96\",\"#ab63fa\",\"#FFA15A\",\"#19d3f3\",\"#FF6692\",\"#B6E880\",\"#FF97FF\",\"#FECB52\"],\"font\":{\"color\":\"#2a3f5f\"},\"hovermode\":\"closest\",\"hoverlabel\":{\"align\":\"left\"},\"paper_bgcolor\":\"white\",\"plot_bgcolor\":\"#E5ECF6\",\"polar\":{\"bgcolor\":\"#E5ECF6\",\"angularaxis\":{\"gridcolor\":\"white\",\"linecolor\":\"white\",\"ticks\":\"\"},\"radialaxis\":{\"gridcolor\":\"white\",\"linecolor\":\"white\",\"ticks\":\"\"}},\"ternary\":{\"bgcolor\":\"#E5ECF6\",\"aaxis\":{\"gridcolor\":\"white\",\"linecolor\":\"white\",\"ticks\":\"\"},\"baxis\":{\"gridcolor\":\"white\",\"linecolor\":\"white\",\"ticks\":\"\"},\"caxis\":{\"gridcolor\":\"white\",\"linecolor\":\"white\",\"ticks\":\"\"}},\"coloraxis\":{\"colorbar\":{\"outlinewidth\":0,\"ticks\":\"\"}},\"colorscale\":{\"sequential\":[[0.0,\"#0d0887\"],[0.1111111111111111,\"#46039f\"],[0.2222222222222222,\"#7201a8\"],[0.3333333333333333,\"#9c179e\"],[0.4444444444444444,\"#bd3786\"],[0.5555555555555556,\"#d8576b\"],[0.6666666666666666,\"#ed7953\"],[0.7777777777777778,\"#fb9f3a\"],[0.8888888888888888,\"#fdca26\"],[1.0,\"#f0f921\"]],\"sequentialminus\":[[0.0,\"#0d0887\"],[0.1111111111111111,\"#46039f\"],[0.2222222222222222,\"#7201a8\"],[0.3333333333333333,\"#9c179e\"],[0.4444444444444444,\"#bd3786\"],[0.5555555555555556,\"#d8576b\"],[0.6666666666666666,\"#ed7953\"],[0.7777777777777778,\"#fb9f3a\"],[0.8888888888888888,\"#fdca26\"],[1.0,\"#f0f921\"]],\"diverging\":[[0,\"#8e0152\"],[0.1,\"#c51b7d\"],[0.2,\"#de77ae\"],[0.3,\"#f1b6da\"],[0.4,\"#fde0ef\"],[0.5,\"#f7f7f7\"],[0.6,\"#e6f5d0\"],[0.7,\"#b8e186\"],[0.8,\"#7fbc41\"],[0.9,\"#4d9221\"],[1,\"#276419\"]]},\"xaxis\":{\"gridcolor\":\"white\",\"linecolor\":\"white\",\"ticks\":\"\",\"title\":{\"standoff\":15},\"zerolinecolor\":\"white\",\"automargin\":true,\"zerolinewidth\":2},\"yaxis\":{\"gridcolor\":\"white\",\"linecolor\":\"white\",\"ticks\":\"\",\"title\":{\"standoff\":15},\"zerolinecolor\":\"white\",\"automargin\":true,\"zerolinewidth\":2},\"scene\":{\"xaxis\":{\"backgroundcolor\":\"#E5ECF6\",\"gridcolor\":\"white\",\"linecolor\":\"white\",\"showbackground\":true,\"ticks\":\"\",\"zerolinecolor\":\"white\",\"gridwidth\":2},\"yaxis\":{\"backgroundcolor\":\"#E5ECF6\",\"gridcolor\":\"white\",\"linecolor\":\"white\",\"showbackground\":true,\"ticks\":\"\",\"zerolinecolor\":\"white\",\"gridwidth\":2},\"zaxis\":{\"backgroundcolor\":\"#E5ECF6\",\"gridcolor\":\"white\",\"linecolor\":\"white\",\"showbackground\":true,\"ticks\":\"\",\"zerolinecolor\":\"white\",\"gridwidth\":2}},\"shapedefaults\":{\"line\":{\"color\":\"#2a3f5f\"}},\"annotationdefaults\":{\"arrowcolor\":\"#2a3f5f\",\"arrowhead\":0,\"arrowwidth\":1},\"geo\":{\"bgcolor\":\"white\",\"landcolor\":\"#E5ECF6\",\"subunitcolor\":\"white\",\"showland\":true,\"showlakes\":true,\"lakecolor\":\"white\"},\"title\":{\"x\":0.05},\"mapbox\":{\"style\":\"light\"}}},\"xaxis\":{\"anchor\":\"y\",\"domain\":[0.0,1.0],\"title\":{\"text\":\"0\"}},\"yaxis\":{\"anchor\":\"x\",\"domain\":[0.0,1.0],\"title\":{\"text\":\"1\"}},\"legend\":{\"title\":{\"text\":\"Sous Type\"},\"tracegroupgap\":0},\"margin\":{\"t\":60}},                        {\"responsive\": true}                    ).then(function(){\n",
       "                            \n",
       "var gd = document.getElementById('788023e9-9e8a-4c89-8619-06ba0f21ba9d');\n",
       "var x = new MutationObserver(function (mutations, observer) {{\n",
       "        var display = window.getComputedStyle(gd).display;\n",
       "        if (!display || display === 'none') {{\n",
       "            console.log([gd, 'removed!']);\n",
       "            Plotly.purge(gd);\n",
       "            observer.disconnect();\n",
       "        }}\n",
       "}});\n",
       "\n",
       "// Listen for the removal of the full notebook cells\n",
       "var notebookContainer = gd.closest('#notebook-container');\n",
       "if (notebookContainer) {{\n",
       "    x.observe(notebookContainer, {childList: true});\n",
       "}}\n",
       "\n",
       "// Listen for the clearing of the current output cell\n",
       "var outputEl = gd.closest('.output');\n",
       "if (outputEl) {{\n",
       "    x.observe(outputEl, {childList: true});\n",
       "}}\n",
       "\n",
       "                        })                };                });            </script>        </div>"
      ]
     },
     "metadata": {},
     "output_type": "display_data"
    },
    {
     "data": {
      "application/vnd.plotly.v1+json": {
       "config": {
        "plotlyServerURL": "https://plot.ly"
       },
       "data": [
        {
         "hovertemplate": "Sous Type=Normal<br>0=%{x}<br>1=%{y}<br>2=%{z}<extra></extra>",
         "legendgroup": "Normal",
         "marker": {
          "color": "#636efa",
          "size": 5,
          "symbol": "circle"
         },
         "mode": "markers",
         "name": "Normal",
         "scene": "scene",
         "showlegend": true,
         "type": "scatter3d",
         "x": [
          9.132588386535645,
          9.31531047821045,
          9.190433502197266,
          9.117015838623047,
          9.205817222595215,
          9.259187698364258,
          9.108731269836426,
          9.211908340454102
         ],
         "y": [
          7.028652191162109,
          6.964838027954102,
          7.108184337615967,
          6.833077430725098,
          7.116425514221191,
          6.938697338104248,
          7.031613349914551,
          7.062572956085205
         ],
         "z": [
          -1.063875436782837,
          -0.9346170425415039,
          -1.0013587474822998,
          -0.9052162170410156,
          -1.127823829650879,
          -0.9750885963439941,
          -1.0518890619277954,
          -1.0836211442947388
         ]
        },
        {
         "hovertemplate": "Sous Type=Basal<br>0=%{x}<br>1=%{y}<br>2=%{z}<extra></extra>",
         "legendgroup": "Basal",
         "marker": {
          "color": "#EF553B",
          "size": 5,
          "symbol": "circle"
         },
         "mode": "markers",
         "name": "Basal",
         "scene": "scene",
         "showlegend": true,
         "type": "scatter3d",
         "x": [
          4.889023303985596,
          5.320261001586914,
          5.034408092498779,
          5.091703414916992,
          4.869198799133301,
          5.150214672088623,
          5.023375034332275,
          5.107313632965088,
          5.4818010330200195,
          5.230116844177246,
          4.8747148513793945,
          5.073923587799072,
          4.868584632873535,
          4.785346984863281,
          5.094655990600586,
          5.257615566253662,
          4.979865074157715,
          5.264467716217041,
          4.890955924987793,
          5.018082141876221,
          4.915126800537109,
          4.990167617797852
         ],
         "y": [
          9.693446159362793,
          9.93646240234375,
          9.817877769470215,
          9.493217468261719,
          9.75502872467041,
          9.838885307312012,
          9.714736938476562,
          9.773463249206543,
          9.80384635925293,
          9.600979804992676,
          9.715628623962402,
          9.548483848571777,
          9.856045722961426,
          9.669898986816406,
          9.809554100036621,
          9.768245697021484,
          9.665168762207031,
          9.769287109375,
          9.757457733154297,
          9.656776428222656,
          9.6668119430542,
          9.53459644317627
         ],
         "z": [
          1.0898780822753906,
          1.3755369186401367,
          1.1272116899490356,
          0.903879702091217,
          1.0317848920822144,
          1.4749974012374878,
          1.085304617881775,
          1.3748186826705933,
          1.3414403200149536,
          1.154971957206726,
          0.899585485458374,
          0.8090596795082092,
          0.9335944652557373,
          1.1598243713378906,
          1.3039915561676025,
          1.3808457851409912,
          1.08999502658844,
          1.2520259618759155,
          0.8463010191917419,
          0.9720999598503113,
          1.1129825115203857,
          0.8327916860580444
         ]
        },
        {
         "hovertemplate": "Sous Type=Her2<br>0=%{x}<br>1=%{y}<br>2=%{z}<extra></extra>",
         "legendgroup": "Her2",
         "marker": {
          "color": "#00cc96",
          "size": 5,
          "symbol": "circle"
         },
         "mode": "markers",
         "name": "Her2",
         "scene": "scene",
         "showlegend": true,
         "type": "scatter3d",
         "x": [
          7.7559919357299805,
          8.403064727783203,
          7.627817153930664,
          7.543002605438232,
          7.5849995613098145,
          7.708059310913086,
          7.768346309661865,
          8.485858917236328,
          8.174905776977539,
          7.746146202087402,
          8.271276473999023,
          8.490799903869629,
          7.4514946937561035,
          8.250129699707031,
          7.4995222091674805,
          8.07126235961914,
          8.627854347229004,
          8.284878730773926,
          7.568371772766113,
          7.6159257888793945,
          7.731419086456299,
          7.604923248291016,
          7.775559902191162,
          8.087153434753418,
          7.63331413269043
         ],
         "y": [
          4.989332675933838,
          4.486173152923584,
          4.827542304992676,
          4.802489280700684,
          4.734403610229492,
          4.947536468505859,
          4.78744649887085,
          3.946816921234131,
          4.580208778381348,
          4.692898750305176,
          4.625275611877441,
          4.268754959106445,
          4.952469348907471,
          4.347069263458252,
          4.896727561950684,
          4.500763893127441,
          4.281293869018555,
          4.291846752166748,
          4.963943958282471,
          4.91661262512207,
          4.758332252502441,
          4.742491245269775,
          4.688525676727295,
          4.613901615142822,
          4.835626602172852
         ],
         "z": [
          6.510051250457764,
          5.715096950531006,
          6.337340354919434,
          6.3118181228637695,
          6.174872875213623,
          6.4884934425354,
          6.403024196624756,
          4.750374794006348,
          5.410168170928955,
          6.3143839836120605,
          5.298426628112793,
          5.269830226898193,
          6.4562225341796875,
          5.290782451629639,
          6.30664587020874,
          5.685272216796875,
          5.086848258972168,
          5.097733497619629,
          6.479648590087891,
          6.431781768798828,
          6.472232818603516,
          6.208498477935791,
          6.272077560424805,
          5.6504807472229,
          6.425381660461426
         ]
        },
        {
         "hovertemplate": "Sous Type=LumA<br>0=%{x}<br>1=%{y}<br>2=%{z}<extra></extra>",
         "legendgroup": "LumA",
         "marker": {
          "color": "#ab63fa",
          "size": 5,
          "symbol": "circle"
         },
         "mode": "markers",
         "name": "LumA",
         "scene": "scene",
         "showlegend": true,
         "type": "scatter3d",
         "x": [
          8.665464401245117,
          8.705192565917969,
          8.895934104919434,
          8.88138484954834,
          8.740822792053223,
          8.810372352600098,
          8.702162742614746,
          8.734861373901367,
          8.901110649108887
         ],
         "y": [
          3.8877880573272705,
          3.889624834060669,
          3.932943344116211,
          3.7795047760009766,
          4.055772304534912,
          3.7159156799316406,
          3.66870379447937,
          3.8477861881256104,
          3.770589828491211
         ],
         "z": [
          4.7988972663879395,
          4.838938236236572,
          4.896178245544434,
          4.795309066772461,
          5.057277679443359,
          4.741377353668213,
          4.61757230758667,
          4.726127624511719,
          4.614480018615723
         ]
        },
        {
         "hovertemplate": "Sous Type=LumB<br>0=%{x}<br>1=%{y}<br>2=%{z}<extra></extra>",
         "legendgroup": "LumB",
         "marker": {
          "color": "#FFA15A",
          "size": 5,
          "symbol": "circle"
         },
         "mode": "markers",
         "name": "LumB",
         "scene": "scene",
         "showlegend": true,
         "type": "scatter3d",
         "x": [
          8.411290168762207,
          8.272016525268555,
          8.387208938598633,
          8.463386535644531,
          8.434326171875,
          8.674002647399902,
          8.262067794799805,
          8.26378345489502
         ],
         "y": [
          4.544139862060547,
          4.716681003570557,
          4.661797046661377,
          4.4897074699401855,
          4.51680326461792,
          4.2393269538879395,
          4.689995288848877,
          4.453676700592041
         ],
         "z": [
          5.6560564041137695,
          5.287227153778076,
          5.388906478881836,
          5.566780090332031,
          5.387879371643066,
          5.253129005432129,
          5.310382843017578,
          5.1773481369018555
         ]
        }
       ],
       "layout": {
        "legend": {
         "title": {
          "text": "Sous Type"
         },
         "tracegroupgap": 0
        },
        "margin": {
         "t": 60
        },
        "scene": {
         "domain": {
          "x": [
           0,
           1
          ],
          "y": [
           0,
           1
          ]
         },
         "xaxis": {
          "title": {
           "text": "0"
          }
         },
         "yaxis": {
          "title": {
           "text": "1"
          }
         },
         "zaxis": {
          "title": {
           "text": "2"
          }
         }
        },
        "template": {
         "data": {
          "bar": [
           {
            "error_x": {
             "color": "#2a3f5f"
            },
            "error_y": {
             "color": "#2a3f5f"
            },
            "marker": {
             "line": {
              "color": "#E5ECF6",
              "width": 0.5
             },
             "pattern": {
              "fillmode": "overlay",
              "size": 10,
              "solidity": 0.2
             }
            },
            "type": "bar"
           }
          ],
          "barpolar": [
           {
            "marker": {
             "line": {
              "color": "#E5ECF6",
              "width": 0.5
             },
             "pattern": {
              "fillmode": "overlay",
              "size": 10,
              "solidity": 0.2
             }
            },
            "type": "barpolar"
           }
          ],
          "carpet": [
           {
            "aaxis": {
             "endlinecolor": "#2a3f5f",
             "gridcolor": "white",
             "linecolor": "white",
             "minorgridcolor": "white",
             "startlinecolor": "#2a3f5f"
            },
            "baxis": {
             "endlinecolor": "#2a3f5f",
             "gridcolor": "white",
             "linecolor": "white",
             "minorgridcolor": "white",
             "startlinecolor": "#2a3f5f"
            },
            "type": "carpet"
           }
          ],
          "choropleth": [
           {
            "colorbar": {
             "outlinewidth": 0,
             "ticks": ""
            },
            "type": "choropleth"
           }
          ],
          "contour": [
           {
            "colorbar": {
             "outlinewidth": 0,
             "ticks": ""
            },
            "colorscale": [
             [
              0,
              "#0d0887"
             ],
             [
              0.1111111111111111,
              "#46039f"
             ],
             [
              0.2222222222222222,
              "#7201a8"
             ],
             [
              0.3333333333333333,
              "#9c179e"
             ],
             [
              0.4444444444444444,
              "#bd3786"
             ],
             [
              0.5555555555555556,
              "#d8576b"
             ],
             [
              0.6666666666666666,
              "#ed7953"
             ],
             [
              0.7777777777777778,
              "#fb9f3a"
             ],
             [
              0.8888888888888888,
              "#fdca26"
             ],
             [
              1,
              "#f0f921"
             ]
            ],
            "type": "contour"
           }
          ],
          "contourcarpet": [
           {
            "colorbar": {
             "outlinewidth": 0,
             "ticks": ""
            },
            "type": "contourcarpet"
           }
          ],
          "heatmap": [
           {
            "colorbar": {
             "outlinewidth": 0,
             "ticks": ""
            },
            "colorscale": [
             [
              0,
              "#0d0887"
             ],
             [
              0.1111111111111111,
              "#46039f"
             ],
             [
              0.2222222222222222,
              "#7201a8"
             ],
             [
              0.3333333333333333,
              "#9c179e"
             ],
             [
              0.4444444444444444,
              "#bd3786"
             ],
             [
              0.5555555555555556,
              "#d8576b"
             ],
             [
              0.6666666666666666,
              "#ed7953"
             ],
             [
              0.7777777777777778,
              "#fb9f3a"
             ],
             [
              0.8888888888888888,
              "#fdca26"
             ],
             [
              1,
              "#f0f921"
             ]
            ],
            "type": "heatmap"
           }
          ],
          "heatmapgl": [
           {
            "colorbar": {
             "outlinewidth": 0,
             "ticks": ""
            },
            "colorscale": [
             [
              0,
              "#0d0887"
             ],
             [
              0.1111111111111111,
              "#46039f"
             ],
             [
              0.2222222222222222,
              "#7201a8"
             ],
             [
              0.3333333333333333,
              "#9c179e"
             ],
             [
              0.4444444444444444,
              "#bd3786"
             ],
             [
              0.5555555555555556,
              "#d8576b"
             ],
             [
              0.6666666666666666,
              "#ed7953"
             ],
             [
              0.7777777777777778,
              "#fb9f3a"
             ],
             [
              0.8888888888888888,
              "#fdca26"
             ],
             [
              1,
              "#f0f921"
             ]
            ],
            "type": "heatmapgl"
           }
          ],
          "histogram": [
           {
            "marker": {
             "pattern": {
              "fillmode": "overlay",
              "size": 10,
              "solidity": 0.2
             }
            },
            "type": "histogram"
           }
          ],
          "histogram2d": [
           {
            "colorbar": {
             "outlinewidth": 0,
             "ticks": ""
            },
            "colorscale": [
             [
              0,
              "#0d0887"
             ],
             [
              0.1111111111111111,
              "#46039f"
             ],
             [
              0.2222222222222222,
              "#7201a8"
             ],
             [
              0.3333333333333333,
              "#9c179e"
             ],
             [
              0.4444444444444444,
              "#bd3786"
             ],
             [
              0.5555555555555556,
              "#d8576b"
             ],
             [
              0.6666666666666666,
              "#ed7953"
             ],
             [
              0.7777777777777778,
              "#fb9f3a"
             ],
             [
              0.8888888888888888,
              "#fdca26"
             ],
             [
              1,
              "#f0f921"
             ]
            ],
            "type": "histogram2d"
           }
          ],
          "histogram2dcontour": [
           {
            "colorbar": {
             "outlinewidth": 0,
             "ticks": ""
            },
            "colorscale": [
             [
              0,
              "#0d0887"
             ],
             [
              0.1111111111111111,
              "#46039f"
             ],
             [
              0.2222222222222222,
              "#7201a8"
             ],
             [
              0.3333333333333333,
              "#9c179e"
             ],
             [
              0.4444444444444444,
              "#bd3786"
             ],
             [
              0.5555555555555556,
              "#d8576b"
             ],
             [
              0.6666666666666666,
              "#ed7953"
             ],
             [
              0.7777777777777778,
              "#fb9f3a"
             ],
             [
              0.8888888888888888,
              "#fdca26"
             ],
             [
              1,
              "#f0f921"
             ]
            ],
            "type": "histogram2dcontour"
           }
          ],
          "mesh3d": [
           {
            "colorbar": {
             "outlinewidth": 0,
             "ticks": ""
            },
            "type": "mesh3d"
           }
          ],
          "parcoords": [
           {
            "line": {
             "colorbar": {
              "outlinewidth": 0,
              "ticks": ""
             }
            },
            "type": "parcoords"
           }
          ],
          "pie": [
           {
            "automargin": true,
            "type": "pie"
           }
          ],
          "scatter": [
           {
            "fillpattern": {
             "fillmode": "overlay",
             "size": 10,
             "solidity": 0.2
            },
            "type": "scatter"
           }
          ],
          "scatter3d": [
           {
            "line": {
             "colorbar": {
              "outlinewidth": 0,
              "ticks": ""
             }
            },
            "marker": {
             "colorbar": {
              "outlinewidth": 0,
              "ticks": ""
             }
            },
            "type": "scatter3d"
           }
          ],
          "scattercarpet": [
           {
            "marker": {
             "colorbar": {
              "outlinewidth": 0,
              "ticks": ""
             }
            },
            "type": "scattercarpet"
           }
          ],
          "scattergeo": [
           {
            "marker": {
             "colorbar": {
              "outlinewidth": 0,
              "ticks": ""
             }
            },
            "type": "scattergeo"
           }
          ],
          "scattergl": [
           {
            "marker": {
             "colorbar": {
              "outlinewidth": 0,
              "ticks": ""
             }
            },
            "type": "scattergl"
           }
          ],
          "scattermapbox": [
           {
            "marker": {
             "colorbar": {
              "outlinewidth": 0,
              "ticks": ""
             }
            },
            "type": "scattermapbox"
           }
          ],
          "scatterpolar": [
           {
            "marker": {
             "colorbar": {
              "outlinewidth": 0,
              "ticks": ""
             }
            },
            "type": "scatterpolar"
           }
          ],
          "scatterpolargl": [
           {
            "marker": {
             "colorbar": {
              "outlinewidth": 0,
              "ticks": ""
             }
            },
            "type": "scatterpolargl"
           }
          ],
          "scatterternary": [
           {
            "marker": {
             "colorbar": {
              "outlinewidth": 0,
              "ticks": ""
             }
            },
            "type": "scatterternary"
           }
          ],
          "surface": [
           {
            "colorbar": {
             "outlinewidth": 0,
             "ticks": ""
            },
            "colorscale": [
             [
              0,
              "#0d0887"
             ],
             [
              0.1111111111111111,
              "#46039f"
             ],
             [
              0.2222222222222222,
              "#7201a8"
             ],
             [
              0.3333333333333333,
              "#9c179e"
             ],
             [
              0.4444444444444444,
              "#bd3786"
             ],
             [
              0.5555555555555556,
              "#d8576b"
             ],
             [
              0.6666666666666666,
              "#ed7953"
             ],
             [
              0.7777777777777778,
              "#fb9f3a"
             ],
             [
              0.8888888888888888,
              "#fdca26"
             ],
             [
              1,
              "#f0f921"
             ]
            ],
            "type": "surface"
           }
          ],
          "table": [
           {
            "cells": {
             "fill": {
              "color": "#EBF0F8"
             },
             "line": {
              "color": "white"
             }
            },
            "header": {
             "fill": {
              "color": "#C8D4E3"
             },
             "line": {
              "color": "white"
             }
            },
            "type": "table"
           }
          ]
         },
         "layout": {
          "annotationdefaults": {
           "arrowcolor": "#2a3f5f",
           "arrowhead": 0,
           "arrowwidth": 1
          },
          "autotypenumbers": "strict",
          "coloraxis": {
           "colorbar": {
            "outlinewidth": 0,
            "ticks": ""
           }
          },
          "colorscale": {
           "diverging": [
            [
             0,
             "#8e0152"
            ],
            [
             0.1,
             "#c51b7d"
            ],
            [
             0.2,
             "#de77ae"
            ],
            [
             0.3,
             "#f1b6da"
            ],
            [
             0.4,
             "#fde0ef"
            ],
            [
             0.5,
             "#f7f7f7"
            ],
            [
             0.6,
             "#e6f5d0"
            ],
            [
             0.7,
             "#b8e186"
            ],
            [
             0.8,
             "#7fbc41"
            ],
            [
             0.9,
             "#4d9221"
            ],
            [
             1,
             "#276419"
            ]
           ],
           "sequential": [
            [
             0,
             "#0d0887"
            ],
            [
             0.1111111111111111,
             "#46039f"
            ],
            [
             0.2222222222222222,
             "#7201a8"
            ],
            [
             0.3333333333333333,
             "#9c179e"
            ],
            [
             0.4444444444444444,
             "#bd3786"
            ],
            [
             0.5555555555555556,
             "#d8576b"
            ],
            [
             0.6666666666666666,
             "#ed7953"
            ],
            [
             0.7777777777777778,
             "#fb9f3a"
            ],
            [
             0.8888888888888888,
             "#fdca26"
            ],
            [
             1,
             "#f0f921"
            ]
           ],
           "sequentialminus": [
            [
             0,
             "#0d0887"
            ],
            [
             0.1111111111111111,
             "#46039f"
            ],
            [
             0.2222222222222222,
             "#7201a8"
            ],
            [
             0.3333333333333333,
             "#9c179e"
            ],
            [
             0.4444444444444444,
             "#bd3786"
            ],
            [
             0.5555555555555556,
             "#d8576b"
            ],
            [
             0.6666666666666666,
             "#ed7953"
            ],
            [
             0.7777777777777778,
             "#fb9f3a"
            ],
            [
             0.8888888888888888,
             "#fdca26"
            ],
            [
             1,
             "#f0f921"
            ]
           ]
          },
          "colorway": [
           "#636efa",
           "#EF553B",
           "#00cc96",
           "#ab63fa",
           "#FFA15A",
           "#19d3f3",
           "#FF6692",
           "#B6E880",
           "#FF97FF",
           "#FECB52"
          ],
          "font": {
           "color": "#2a3f5f"
          },
          "geo": {
           "bgcolor": "white",
           "lakecolor": "white",
           "landcolor": "#E5ECF6",
           "showlakes": true,
           "showland": true,
           "subunitcolor": "white"
          },
          "hoverlabel": {
           "align": "left"
          },
          "hovermode": "closest",
          "mapbox": {
           "style": "light"
          },
          "paper_bgcolor": "white",
          "plot_bgcolor": "#E5ECF6",
          "polar": {
           "angularaxis": {
            "gridcolor": "white",
            "linecolor": "white",
            "ticks": ""
           },
           "bgcolor": "#E5ECF6",
           "radialaxis": {
            "gridcolor": "white",
            "linecolor": "white",
            "ticks": ""
           }
          },
          "scene": {
           "xaxis": {
            "backgroundcolor": "#E5ECF6",
            "gridcolor": "white",
            "gridwidth": 2,
            "linecolor": "white",
            "showbackground": true,
            "ticks": "",
            "zerolinecolor": "white"
           },
           "yaxis": {
            "backgroundcolor": "#E5ECF6",
            "gridcolor": "white",
            "gridwidth": 2,
            "linecolor": "white",
            "showbackground": true,
            "ticks": "",
            "zerolinecolor": "white"
           },
           "zaxis": {
            "backgroundcolor": "#E5ECF6",
            "gridcolor": "white",
            "gridwidth": 2,
            "linecolor": "white",
            "showbackground": true,
            "ticks": "",
            "zerolinecolor": "white"
           }
          },
          "shapedefaults": {
           "line": {
            "color": "#2a3f5f"
           }
          },
          "ternary": {
           "aaxis": {
            "gridcolor": "white",
            "linecolor": "white",
            "ticks": ""
           },
           "baxis": {
            "gridcolor": "white",
            "linecolor": "white",
            "ticks": ""
           },
           "bgcolor": "#E5ECF6",
           "caxis": {
            "gridcolor": "white",
            "linecolor": "white",
            "ticks": ""
           }
          },
          "title": {
           "x": 0.05
          },
          "xaxis": {
           "automargin": true,
           "gridcolor": "white",
           "linecolor": "white",
           "ticks": "",
           "title": {
            "standoff": 15
           },
           "zerolinecolor": "white",
           "zerolinewidth": 2
          },
          "yaxis": {
           "automargin": true,
           "gridcolor": "white",
           "linecolor": "white",
           "ticks": "",
           "title": {
            "standoff": 15
           },
           "zerolinecolor": "white",
           "zerolinewidth": 2
          }
         }
        }
       }
      },
      "text/html": [
       "<div>                            <div id=\"9ce1b6c3-72bb-471e-ace2-d27793ed01cf\" class=\"plotly-graph-div\" style=\"height:525px; width:100%;\"></div>            <script type=\"text/javascript\">                require([\"plotly\"], function(Plotly) {                    window.PLOTLYENV=window.PLOTLYENV || {};                                    if (document.getElementById(\"9ce1b6c3-72bb-471e-ace2-d27793ed01cf\")) {                    Plotly.newPlot(                        \"9ce1b6c3-72bb-471e-ace2-d27793ed01cf\",                        [{\"hovertemplate\":\"Sous Type=Normal<br>0=%{x}<br>1=%{y}<br>2=%{z}<extra></extra>\",\"legendgroup\":\"Normal\",\"marker\":{\"color\":\"#636efa\",\"symbol\":\"circle\",\"size\":5},\"mode\":\"markers\",\"name\":\"Normal\",\"scene\":\"scene\",\"showlegend\":true,\"x\":[9.132588386535645,9.31531047821045,9.190433502197266,9.117015838623047,9.205817222595215,9.259187698364258,9.108731269836426,9.211908340454102],\"y\":[7.028652191162109,6.964838027954102,7.108184337615967,6.833077430725098,7.116425514221191,6.938697338104248,7.031613349914551,7.062572956085205],\"z\":[-1.063875436782837,-0.9346170425415039,-1.0013587474822998,-0.9052162170410156,-1.127823829650879,-0.9750885963439941,-1.0518890619277954,-1.0836211442947388],\"type\":\"scatter3d\"},{\"hovertemplate\":\"Sous Type=Basal<br>0=%{x}<br>1=%{y}<br>2=%{z}<extra></extra>\",\"legendgroup\":\"Basal\",\"marker\":{\"color\":\"#EF553B\",\"symbol\":\"circle\",\"size\":5},\"mode\":\"markers\",\"name\":\"Basal\",\"scene\":\"scene\",\"showlegend\":true,\"x\":[4.889023303985596,5.320261001586914,5.034408092498779,5.091703414916992,4.869198799133301,5.150214672088623,5.023375034332275,5.107313632965088,5.4818010330200195,5.230116844177246,4.8747148513793945,5.073923587799072,4.868584632873535,4.785346984863281,5.094655990600586,5.257615566253662,4.979865074157715,5.264467716217041,4.890955924987793,5.018082141876221,4.915126800537109,4.990167617797852],\"y\":[9.693446159362793,9.93646240234375,9.817877769470215,9.493217468261719,9.75502872467041,9.838885307312012,9.714736938476562,9.773463249206543,9.80384635925293,9.600979804992676,9.715628623962402,9.548483848571777,9.856045722961426,9.669898986816406,9.809554100036621,9.768245697021484,9.665168762207031,9.769287109375,9.757457733154297,9.656776428222656,9.6668119430542,9.53459644317627],\"z\":[1.0898780822753906,1.3755369186401367,1.1272116899490356,0.903879702091217,1.0317848920822144,1.4749974012374878,1.085304617881775,1.3748186826705933,1.3414403200149536,1.154971957206726,0.899585485458374,0.8090596795082092,0.9335944652557373,1.1598243713378906,1.3039915561676025,1.3808457851409912,1.08999502658844,1.2520259618759155,0.8463010191917419,0.9720999598503113,1.1129825115203857,0.8327916860580444],\"type\":\"scatter3d\"},{\"hovertemplate\":\"Sous Type=Her2<br>0=%{x}<br>1=%{y}<br>2=%{z}<extra></extra>\",\"legendgroup\":\"Her2\",\"marker\":{\"color\":\"#00cc96\",\"symbol\":\"circle\",\"size\":5},\"mode\":\"markers\",\"name\":\"Her2\",\"scene\":\"scene\",\"showlegend\":true,\"x\":[7.7559919357299805,8.403064727783203,7.627817153930664,7.543002605438232,7.5849995613098145,7.708059310913086,7.768346309661865,8.485858917236328,8.174905776977539,7.746146202087402,8.271276473999023,8.490799903869629,7.4514946937561035,8.250129699707031,7.4995222091674805,8.07126235961914,8.627854347229004,8.284878730773926,7.568371772766113,7.6159257888793945,7.731419086456299,7.604923248291016,7.775559902191162,8.087153434753418,7.63331413269043],\"y\":[4.989332675933838,4.486173152923584,4.827542304992676,4.802489280700684,4.734403610229492,4.947536468505859,4.78744649887085,3.946816921234131,4.580208778381348,4.692898750305176,4.625275611877441,4.268754959106445,4.952469348907471,4.347069263458252,4.896727561950684,4.500763893127441,4.281293869018555,4.291846752166748,4.963943958282471,4.91661262512207,4.758332252502441,4.742491245269775,4.688525676727295,4.613901615142822,4.835626602172852],\"z\":[6.510051250457764,5.715096950531006,6.337340354919434,6.3118181228637695,6.174872875213623,6.4884934425354,6.403024196624756,4.750374794006348,5.410168170928955,6.3143839836120605,5.298426628112793,5.269830226898193,6.4562225341796875,5.290782451629639,6.30664587020874,5.685272216796875,5.086848258972168,5.097733497619629,6.479648590087891,6.431781768798828,6.472232818603516,6.208498477935791,6.272077560424805,5.6504807472229,6.425381660461426],\"type\":\"scatter3d\"},{\"hovertemplate\":\"Sous Type=LumA<br>0=%{x}<br>1=%{y}<br>2=%{z}<extra></extra>\",\"legendgroup\":\"LumA\",\"marker\":{\"color\":\"#ab63fa\",\"symbol\":\"circle\",\"size\":5},\"mode\":\"markers\",\"name\":\"LumA\",\"scene\":\"scene\",\"showlegend\":true,\"x\":[8.665464401245117,8.705192565917969,8.895934104919434,8.88138484954834,8.740822792053223,8.810372352600098,8.702162742614746,8.734861373901367,8.901110649108887],\"y\":[3.8877880573272705,3.889624834060669,3.932943344116211,3.7795047760009766,4.055772304534912,3.7159156799316406,3.66870379447937,3.8477861881256104,3.770589828491211],\"z\":[4.7988972663879395,4.838938236236572,4.896178245544434,4.795309066772461,5.057277679443359,4.741377353668213,4.61757230758667,4.726127624511719,4.614480018615723],\"type\":\"scatter3d\"},{\"hovertemplate\":\"Sous Type=LumB<br>0=%{x}<br>1=%{y}<br>2=%{z}<extra></extra>\",\"legendgroup\":\"LumB\",\"marker\":{\"color\":\"#FFA15A\",\"symbol\":\"circle\",\"size\":5},\"mode\":\"markers\",\"name\":\"LumB\",\"scene\":\"scene\",\"showlegend\":true,\"x\":[8.411290168762207,8.272016525268555,8.387208938598633,8.463386535644531,8.434326171875,8.674002647399902,8.262067794799805,8.26378345489502],\"y\":[4.544139862060547,4.716681003570557,4.661797046661377,4.4897074699401855,4.51680326461792,4.2393269538879395,4.689995288848877,4.453676700592041],\"z\":[5.6560564041137695,5.287227153778076,5.388906478881836,5.566780090332031,5.387879371643066,5.253129005432129,5.310382843017578,5.1773481369018555],\"type\":\"scatter3d\"}],                        {\"template\":{\"data\":{\"histogram2dcontour\":[{\"type\":\"histogram2dcontour\",\"colorbar\":{\"outlinewidth\":0,\"ticks\":\"\"},\"colorscale\":[[0.0,\"#0d0887\"],[0.1111111111111111,\"#46039f\"],[0.2222222222222222,\"#7201a8\"],[0.3333333333333333,\"#9c179e\"],[0.4444444444444444,\"#bd3786\"],[0.5555555555555556,\"#d8576b\"],[0.6666666666666666,\"#ed7953\"],[0.7777777777777778,\"#fb9f3a\"],[0.8888888888888888,\"#fdca26\"],[1.0,\"#f0f921\"]]}],\"choropleth\":[{\"type\":\"choropleth\",\"colorbar\":{\"outlinewidth\":0,\"ticks\":\"\"}}],\"histogram2d\":[{\"type\":\"histogram2d\",\"colorbar\":{\"outlinewidth\":0,\"ticks\":\"\"},\"colorscale\":[[0.0,\"#0d0887\"],[0.1111111111111111,\"#46039f\"],[0.2222222222222222,\"#7201a8\"],[0.3333333333333333,\"#9c179e\"],[0.4444444444444444,\"#bd3786\"],[0.5555555555555556,\"#d8576b\"],[0.6666666666666666,\"#ed7953\"],[0.7777777777777778,\"#fb9f3a\"],[0.8888888888888888,\"#fdca26\"],[1.0,\"#f0f921\"]]}],\"heatmap\":[{\"type\":\"heatmap\",\"colorbar\":{\"outlinewidth\":0,\"ticks\":\"\"},\"colorscale\":[[0.0,\"#0d0887\"],[0.1111111111111111,\"#46039f\"],[0.2222222222222222,\"#7201a8\"],[0.3333333333333333,\"#9c179e\"],[0.4444444444444444,\"#bd3786\"],[0.5555555555555556,\"#d8576b\"],[0.6666666666666666,\"#ed7953\"],[0.7777777777777778,\"#fb9f3a\"],[0.8888888888888888,\"#fdca26\"],[1.0,\"#f0f921\"]]}],\"heatmapgl\":[{\"type\":\"heatmapgl\",\"colorbar\":{\"outlinewidth\":0,\"ticks\":\"\"},\"colorscale\":[[0.0,\"#0d0887\"],[0.1111111111111111,\"#46039f\"],[0.2222222222222222,\"#7201a8\"],[0.3333333333333333,\"#9c179e\"],[0.4444444444444444,\"#bd3786\"],[0.5555555555555556,\"#d8576b\"],[0.6666666666666666,\"#ed7953\"],[0.7777777777777778,\"#fb9f3a\"],[0.8888888888888888,\"#fdca26\"],[1.0,\"#f0f921\"]]}],\"contourcarpet\":[{\"type\":\"contourcarpet\",\"colorbar\":{\"outlinewidth\":0,\"ticks\":\"\"}}],\"contour\":[{\"type\":\"contour\",\"colorbar\":{\"outlinewidth\":0,\"ticks\":\"\"},\"colorscale\":[[0.0,\"#0d0887\"],[0.1111111111111111,\"#46039f\"],[0.2222222222222222,\"#7201a8\"],[0.3333333333333333,\"#9c179e\"],[0.4444444444444444,\"#bd3786\"],[0.5555555555555556,\"#d8576b\"],[0.6666666666666666,\"#ed7953\"],[0.7777777777777778,\"#fb9f3a\"],[0.8888888888888888,\"#fdca26\"],[1.0,\"#f0f921\"]]}],\"surface\":[{\"type\":\"surface\",\"colorbar\":{\"outlinewidth\":0,\"ticks\":\"\"},\"colorscale\":[[0.0,\"#0d0887\"],[0.1111111111111111,\"#46039f\"],[0.2222222222222222,\"#7201a8\"],[0.3333333333333333,\"#9c179e\"],[0.4444444444444444,\"#bd3786\"],[0.5555555555555556,\"#d8576b\"],[0.6666666666666666,\"#ed7953\"],[0.7777777777777778,\"#fb9f3a\"],[0.8888888888888888,\"#fdca26\"],[1.0,\"#f0f921\"]]}],\"mesh3d\":[{\"type\":\"mesh3d\",\"colorbar\":{\"outlinewidth\":0,\"ticks\":\"\"}}],\"scatter\":[{\"fillpattern\":{\"fillmode\":\"overlay\",\"size\":10,\"solidity\":0.2},\"type\":\"scatter\"}],\"parcoords\":[{\"type\":\"parcoords\",\"line\":{\"colorbar\":{\"outlinewidth\":0,\"ticks\":\"\"}}}],\"scatterpolargl\":[{\"type\":\"scatterpolargl\",\"marker\":{\"colorbar\":{\"outlinewidth\":0,\"ticks\":\"\"}}}],\"bar\":[{\"error_x\":{\"color\":\"#2a3f5f\"},\"error_y\":{\"color\":\"#2a3f5f\"},\"marker\":{\"line\":{\"color\":\"#E5ECF6\",\"width\":0.5},\"pattern\":{\"fillmode\":\"overlay\",\"size\":10,\"solidity\":0.2}},\"type\":\"bar\"}],\"scattergeo\":[{\"type\":\"scattergeo\",\"marker\":{\"colorbar\":{\"outlinewidth\":0,\"ticks\":\"\"}}}],\"scatterpolar\":[{\"type\":\"scatterpolar\",\"marker\":{\"colorbar\":{\"outlinewidth\":0,\"ticks\":\"\"}}}],\"histogram\":[{\"marker\":{\"pattern\":{\"fillmode\":\"overlay\",\"size\":10,\"solidity\":0.2}},\"type\":\"histogram\"}],\"scattergl\":[{\"type\":\"scattergl\",\"marker\":{\"colorbar\":{\"outlinewidth\":0,\"ticks\":\"\"}}}],\"scatter3d\":[{\"type\":\"scatter3d\",\"line\":{\"colorbar\":{\"outlinewidth\":0,\"ticks\":\"\"}},\"marker\":{\"colorbar\":{\"outlinewidth\":0,\"ticks\":\"\"}}}],\"scattermapbox\":[{\"type\":\"scattermapbox\",\"marker\":{\"colorbar\":{\"outlinewidth\":0,\"ticks\":\"\"}}}],\"scatterternary\":[{\"type\":\"scatterternary\",\"marker\":{\"colorbar\":{\"outlinewidth\":0,\"ticks\":\"\"}}}],\"scattercarpet\":[{\"type\":\"scattercarpet\",\"marker\":{\"colorbar\":{\"outlinewidth\":0,\"ticks\":\"\"}}}],\"carpet\":[{\"aaxis\":{\"endlinecolor\":\"#2a3f5f\",\"gridcolor\":\"white\",\"linecolor\":\"white\",\"minorgridcolor\":\"white\",\"startlinecolor\":\"#2a3f5f\"},\"baxis\":{\"endlinecolor\":\"#2a3f5f\",\"gridcolor\":\"white\",\"linecolor\":\"white\",\"minorgridcolor\":\"white\",\"startlinecolor\":\"#2a3f5f\"},\"type\":\"carpet\"}],\"table\":[{\"cells\":{\"fill\":{\"color\":\"#EBF0F8\"},\"line\":{\"color\":\"white\"}},\"header\":{\"fill\":{\"color\":\"#C8D4E3\"},\"line\":{\"color\":\"white\"}},\"type\":\"table\"}],\"barpolar\":[{\"marker\":{\"line\":{\"color\":\"#E5ECF6\",\"width\":0.5},\"pattern\":{\"fillmode\":\"overlay\",\"size\":10,\"solidity\":0.2}},\"type\":\"barpolar\"}],\"pie\":[{\"automargin\":true,\"type\":\"pie\"}]},\"layout\":{\"autotypenumbers\":\"strict\",\"colorway\":[\"#636efa\",\"#EF553B\",\"#00cc96\",\"#ab63fa\",\"#FFA15A\",\"#19d3f3\",\"#FF6692\",\"#B6E880\",\"#FF97FF\",\"#FECB52\"],\"font\":{\"color\":\"#2a3f5f\"},\"hovermode\":\"closest\",\"hoverlabel\":{\"align\":\"left\"},\"paper_bgcolor\":\"white\",\"plot_bgcolor\":\"#E5ECF6\",\"polar\":{\"bgcolor\":\"#E5ECF6\",\"angularaxis\":{\"gridcolor\":\"white\",\"linecolor\":\"white\",\"ticks\":\"\"},\"radialaxis\":{\"gridcolor\":\"white\",\"linecolor\":\"white\",\"ticks\":\"\"}},\"ternary\":{\"bgcolor\":\"#E5ECF6\",\"aaxis\":{\"gridcolor\":\"white\",\"linecolor\":\"white\",\"ticks\":\"\"},\"baxis\":{\"gridcolor\":\"white\",\"linecolor\":\"white\",\"ticks\":\"\"},\"caxis\":{\"gridcolor\":\"white\",\"linecolor\":\"white\",\"ticks\":\"\"}},\"coloraxis\":{\"colorbar\":{\"outlinewidth\":0,\"ticks\":\"\"}},\"colorscale\":{\"sequential\":[[0.0,\"#0d0887\"],[0.1111111111111111,\"#46039f\"],[0.2222222222222222,\"#7201a8\"],[0.3333333333333333,\"#9c179e\"],[0.4444444444444444,\"#bd3786\"],[0.5555555555555556,\"#d8576b\"],[0.6666666666666666,\"#ed7953\"],[0.7777777777777778,\"#fb9f3a\"],[0.8888888888888888,\"#fdca26\"],[1.0,\"#f0f921\"]],\"sequentialminus\":[[0.0,\"#0d0887\"],[0.1111111111111111,\"#46039f\"],[0.2222222222222222,\"#7201a8\"],[0.3333333333333333,\"#9c179e\"],[0.4444444444444444,\"#bd3786\"],[0.5555555555555556,\"#d8576b\"],[0.6666666666666666,\"#ed7953\"],[0.7777777777777778,\"#fb9f3a\"],[0.8888888888888888,\"#fdca26\"],[1.0,\"#f0f921\"]],\"diverging\":[[0,\"#8e0152\"],[0.1,\"#c51b7d\"],[0.2,\"#de77ae\"],[0.3,\"#f1b6da\"],[0.4,\"#fde0ef\"],[0.5,\"#f7f7f7\"],[0.6,\"#e6f5d0\"],[0.7,\"#b8e186\"],[0.8,\"#7fbc41\"],[0.9,\"#4d9221\"],[1,\"#276419\"]]},\"xaxis\":{\"gridcolor\":\"white\",\"linecolor\":\"white\",\"ticks\":\"\",\"title\":{\"standoff\":15},\"zerolinecolor\":\"white\",\"automargin\":true,\"zerolinewidth\":2},\"yaxis\":{\"gridcolor\":\"white\",\"linecolor\":\"white\",\"ticks\":\"\",\"title\":{\"standoff\":15},\"zerolinecolor\":\"white\",\"automargin\":true,\"zerolinewidth\":2},\"scene\":{\"xaxis\":{\"backgroundcolor\":\"#E5ECF6\",\"gridcolor\":\"white\",\"linecolor\":\"white\",\"showbackground\":true,\"ticks\":\"\",\"zerolinecolor\":\"white\",\"gridwidth\":2},\"yaxis\":{\"backgroundcolor\":\"#E5ECF6\",\"gridcolor\":\"white\",\"linecolor\":\"white\",\"showbackground\":true,\"ticks\":\"\",\"zerolinecolor\":\"white\",\"gridwidth\":2},\"zaxis\":{\"backgroundcolor\":\"#E5ECF6\",\"gridcolor\":\"white\",\"linecolor\":\"white\",\"showbackground\":true,\"ticks\":\"\",\"zerolinecolor\":\"white\",\"gridwidth\":2}},\"shapedefaults\":{\"line\":{\"color\":\"#2a3f5f\"}},\"annotationdefaults\":{\"arrowcolor\":\"#2a3f5f\",\"arrowhead\":0,\"arrowwidth\":1},\"geo\":{\"bgcolor\":\"white\",\"landcolor\":\"#E5ECF6\",\"subunitcolor\":\"white\",\"showland\":true,\"showlakes\":true,\"lakecolor\":\"white\"},\"title\":{\"x\":0.05},\"mapbox\":{\"style\":\"light\"}}},\"scene\":{\"domain\":{\"x\":[0.0,1.0],\"y\":[0.0,1.0]},\"xaxis\":{\"title\":{\"text\":\"0\"}},\"yaxis\":{\"title\":{\"text\":\"1\"}},\"zaxis\":{\"title\":{\"text\":\"2\"}}},\"legend\":{\"title\":{\"text\":\"Sous Type\"},\"tracegroupgap\":0},\"margin\":{\"t\":60}},                        {\"responsive\": true}                    ).then(function(){\n",
       "                            \n",
       "var gd = document.getElementById('9ce1b6c3-72bb-471e-ace2-d27793ed01cf');\n",
       "var x = new MutationObserver(function (mutations, observer) {{\n",
       "        var display = window.getComputedStyle(gd).display;\n",
       "        if (!display || display === 'none') {{\n",
       "            console.log([gd, 'removed!']);\n",
       "            Plotly.purge(gd);\n",
       "            observer.disconnect();\n",
       "        }}\n",
       "}});\n",
       "\n",
       "// Listen for the removal of the full notebook cells\n",
       "var notebookContainer = gd.closest('#notebook-container');\n",
       "if (notebookContainer) {{\n",
       "    x.observe(notebookContainer, {childList: true});\n",
       "}}\n",
       "\n",
       "// Listen for the clearing of the current output cell\n",
       "var outputEl = gd.closest('.output');\n",
       "if (outputEl) {{\n",
       "    x.observe(outputEl, {childList: true});\n",
       "}}\n",
       "\n",
       "                        })                };                });            </script>        </div>"
      ]
     },
     "metadata": {},
     "output_type": "display_data"
    },
    {
     "data": {
      "text/plain": [
       "array([[ 9.132588  ,  7.028652  , -1.0638754 , ...,  3.910277  ,\n",
       "         6.4135685 ,  8.660717  ],\n",
       "       [ 9.3153105 ,  6.964838  , -0.93461704, ...,  4.0905223 ,\n",
       "         6.3153143 ,  8.705473  ],\n",
       "       [ 9.1904335 ,  7.1081843 , -1.0013587 , ...,  4.048217  ,\n",
       "         6.4683166 ,  8.498183  ],\n",
       "       ...,\n",
       "       [ 8.674003  ,  4.239327  ,  5.253129  , ...,  2.6210647 ,\n",
       "         3.9853222 ,  5.6234226 ],\n",
       "       [ 8.262068  ,  4.6899953 ,  5.310383  , ...,  2.7141154 ,\n",
       "         3.68317   ,  5.0535    ],\n",
       "       [ 8.263783  ,  4.4536767 ,  5.177348  , ...,  2.7490404 ,\n",
       "         3.7461336 ,  5.1877775 ]], dtype=float32)"
      ]
     },
     "execution_count": 60,
     "metadata": {},
     "output_type": "execute_result"
    }
   ],
   "source": [
    "features = df.iloc[:, 1:-1]\n",
    "\n",
    "umap_2d = UMAP(n_components=15, init='random', random_state=0)\n",
    "umap_3d = UMAP(n_components=15, init='random', random_state=0)\n",
    "\n",
    "proj_2d = umap_2d.fit_transform(features)\n",
    "proj_3d = umap_3d.fit_transform(features)\n",
    "\n",
    "fig_2d = px.scatter(\n",
    "    proj_2d, x=0, y=1,\n",
    "    color=Y, labels={'color': 'Sous Type'}\n",
    ")\n",
    "fig_3d = px.scatter_3d(\n",
    "    proj_3d, x=0, y=1, z=2,\n",
    "    color=Y, labels={'color': 'Sous Type'}\n",
    ")\n",
    "fig_3d.update_traces(marker_size=5)\n",
    " \n",
    "fig_2d.show()\n",
    "fig_3d.show()"
   ]
  }
 ],
 "metadata": {
  "kernelspec": {
   "display_name": "Python 3 (ipykernel)",
   "language": "python",
   "name": "python3"
  },
  "language_info": {
   "codemirror_mode": {
    "name": "ipython",
    "version": 3
   },
   "file_extension": ".py",
   "mimetype": "text/x-python",
   "name": "python",
   "nbconvert_exporter": "python",
   "pygments_lexer": "ipython3",
   "version": "3.10.6"
  }
 },
 "nbformat": 4,
 "nbformat_minor": 5
}
